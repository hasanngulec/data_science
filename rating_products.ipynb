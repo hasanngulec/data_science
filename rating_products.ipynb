{
 "cells": [
  {
   "cell_type": "markdown",
   "id": "0a5e26e8",
   "metadata": {},
   "source": [
    "# 1. Rating Products\n",
    "# - 1.1 Average\n",
    "# - 1.2 Time-Based Weighted Average\n",
    "# - 1.3 User-Based Weighted Average\n",
    "# - 1.4 Weighted Rating"
   ]
  },
  {
   "cell_type": "code",
   "execution_count": 5,
   "id": "677c5dd4",
   "metadata": {},
   "outputs": [
    {
     "data": {
      "text/html": [
       "<div>\n",
       "<style scoped>\n",
       "    .dataframe tbody tr th:only-of-type {\n",
       "        vertical-align: middle;\n",
       "    }\n",
       "\n",
       "    .dataframe tbody tr th {\n",
       "        vertical-align: top;\n",
       "    }\n",
       "\n",
       "    .dataframe thead th {\n",
       "        text-align: right;\n",
       "    }\n",
       "</style>\n",
       "<table border=\"1\" class=\"dataframe\">\n",
       "  <thead>\n",
       "    <tr style=\"text-align: right;\">\n",
       "      <th></th>\n",
       "      <th>Rating</th>\n",
       "      <th>Timestamp</th>\n",
       "      <th>Enrolled</th>\n",
       "      <th>Progress</th>\n",
       "      <th>Questions Asked</th>\n",
       "      <th>Questions Answered</th>\n",
       "    </tr>\n",
       "  </thead>\n",
       "  <tbody>\n",
       "    <tr>\n",
       "      <th>0</th>\n",
       "      <td>5.0</td>\n",
       "      <td>2021-02-05 07:45:55</td>\n",
       "      <td>2021-01-25 15:12:08</td>\n",
       "      <td>5.0</td>\n",
       "      <td>0.0</td>\n",
       "      <td>0.0</td>\n",
       "    </tr>\n",
       "    <tr>\n",
       "      <th>1</th>\n",
       "      <td>5.0</td>\n",
       "      <td>2021-02-04 21:05:32</td>\n",
       "      <td>2021-02-04 20:43:40</td>\n",
       "      <td>1.0</td>\n",
       "      <td>0.0</td>\n",
       "      <td>0.0</td>\n",
       "    </tr>\n",
       "    <tr>\n",
       "      <th>2</th>\n",
       "      <td>4.5</td>\n",
       "      <td>2021-02-04 20:34:03</td>\n",
       "      <td>2019-07-04 23:23:27</td>\n",
       "      <td>1.0</td>\n",
       "      <td>0.0</td>\n",
       "      <td>0.0</td>\n",
       "    </tr>\n",
       "    <tr>\n",
       "      <th>3</th>\n",
       "      <td>5.0</td>\n",
       "      <td>2021-02-04 16:56:28</td>\n",
       "      <td>2021-02-04 14:41:29</td>\n",
       "      <td>10.0</td>\n",
       "      <td>0.0</td>\n",
       "      <td>0.0</td>\n",
       "    </tr>\n",
       "    <tr>\n",
       "      <th>4</th>\n",
       "      <td>4.0</td>\n",
       "      <td>2021-02-04 15:00:24</td>\n",
       "      <td>2020-10-13 03:10:07</td>\n",
       "      <td>10.0</td>\n",
       "      <td>0.0</td>\n",
       "      <td>0.0</td>\n",
       "    </tr>\n",
       "  </tbody>\n",
       "</table>\n",
       "</div>"
      ],
      "text/plain": [
       "   Rating            Timestamp             Enrolled  Progress  \\\n",
       "0     5.0  2021-02-05 07:45:55  2021-01-25 15:12:08       5.0   \n",
       "1     5.0  2021-02-04 21:05:32  2021-02-04 20:43:40       1.0   \n",
       "2     4.5  2021-02-04 20:34:03  2019-07-04 23:23:27       1.0   \n",
       "3     5.0  2021-02-04 16:56:28  2021-02-04 14:41:29      10.0   \n",
       "4     4.0  2021-02-04 15:00:24  2020-10-13 03:10:07      10.0   \n",
       "\n",
       "   Questions Asked  Questions Answered  \n",
       "0              0.0                 0.0  \n",
       "1              0.0                 0.0  \n",
       "2              0.0                 0.0  \n",
       "3              0.0                 0.0  \n",
       "4              0.0                 0.0  "
      ]
     },
     "execution_count": 5,
     "metadata": {},
     "output_type": "execute_result"
    }
   ],
   "source": [
    "import pandas as pd\n",
    "import math\n",
    "import scipy.stats as st\n",
    "from sklearn.preprocessing import MinMaxScaler\n",
    "\n",
    "df = pd.read_csv(\"file/\")\n",
    "df.head()"
   ]
  },
  {
   "cell_type": "code",
   "execution_count": 2,
   "id": "d33c74e4",
   "metadata": {},
   "outputs": [
    {
     "data": {
      "text/plain": [
       "(4323, 6)"
      ]
     },
     "execution_count": 2,
     "metadata": {},
     "output_type": "execute_result"
    }
   ],
   "source": [
    "df.shape"
   ]
  },
  {
   "cell_type": "code",
   "execution_count": 3,
   "id": "3a0bcb51",
   "metadata": {},
   "outputs": [
    {
     "data": {
      "text/plain": [
       "Rating\n",
       "5.0    3267\n",
       "4.5     475\n",
       "4.0     383\n",
       "3.5      96\n",
       "3.0      62\n",
       "1.0      15\n",
       "2.0      12\n",
       "2.5      11\n",
       "1.5       2\n",
       "Name: count, dtype: int64"
      ]
     },
     "execution_count": 3,
     "metadata": {},
     "output_type": "execute_result"
    }
   ],
   "source": [
    "df[\"Rating\"].value_counts()"
   ]
  },
  {
   "cell_type": "code",
   "execution_count": 4,
   "id": "fca15439",
   "metadata": {},
   "outputs": [
    {
     "data": {
      "text/plain": [
       "Questions Asked\n",
       "0.0     3867\n",
       "1.0      276\n",
       "2.0       80\n",
       "3.0       43\n",
       "4.0       15\n",
       "5.0       13\n",
       "6.0        9\n",
       "8.0        5\n",
       "9.0        3\n",
       "14.0       2\n",
       "11.0       2\n",
       "7.0        2\n",
       "10.0       2\n",
       "15.0       2\n",
       "22.0       1\n",
       "12.0       1\n",
       "Name: count, dtype: int64"
      ]
     },
     "execution_count": 4,
     "metadata": {},
     "output_type": "execute_result"
    }
   ],
   "source": [
    "df[\"Questions Asked\"].value_counts()"
   ]
  },
  {
   "cell_type": "code",
   "execution_count": 6,
   "id": "269456de",
   "metadata": {},
   "outputs": [
    {
     "data": {
      "text/html": [
       "<div>\n",
       "<style scoped>\n",
       "    .dataframe tbody tr th:only-of-type {\n",
       "        vertical-align: middle;\n",
       "    }\n",
       "\n",
       "    .dataframe tbody tr th {\n",
       "        vertical-align: top;\n",
       "    }\n",
       "\n",
       "    .dataframe thead th {\n",
       "        text-align: right;\n",
       "    }\n",
       "</style>\n",
       "<table border=\"1\" class=\"dataframe\">\n",
       "  <thead>\n",
       "    <tr style=\"text-align: right;\">\n",
       "      <th></th>\n",
       "      <th>Questions Asked</th>\n",
       "      <th>Rating</th>\n",
       "    </tr>\n",
       "    <tr>\n",
       "      <th>Questions Asked</th>\n",
       "      <th></th>\n",
       "      <th></th>\n",
       "    </tr>\n",
       "  </thead>\n",
       "  <tbody>\n",
       "    <tr>\n",
       "      <th>0.0</th>\n",
       "      <td>3867</td>\n",
       "      <td>4.765193</td>\n",
       "    </tr>\n",
       "    <tr>\n",
       "      <th>1.0</th>\n",
       "      <td>276</td>\n",
       "      <td>4.740942</td>\n",
       "    </tr>\n",
       "    <tr>\n",
       "      <th>2.0</th>\n",
       "      <td>80</td>\n",
       "      <td>4.806250</td>\n",
       "    </tr>\n",
       "    <tr>\n",
       "      <th>3.0</th>\n",
       "      <td>43</td>\n",
       "      <td>4.744186</td>\n",
       "    </tr>\n",
       "    <tr>\n",
       "      <th>4.0</th>\n",
       "      <td>15</td>\n",
       "      <td>4.833333</td>\n",
       "    </tr>\n",
       "    <tr>\n",
       "      <th>5.0</th>\n",
       "      <td>13</td>\n",
       "      <td>4.653846</td>\n",
       "    </tr>\n",
       "    <tr>\n",
       "      <th>6.0</th>\n",
       "      <td>9</td>\n",
       "      <td>5.000000</td>\n",
       "    </tr>\n",
       "    <tr>\n",
       "      <th>7.0</th>\n",
       "      <td>2</td>\n",
       "      <td>4.750000</td>\n",
       "    </tr>\n",
       "    <tr>\n",
       "      <th>8.0</th>\n",
       "      <td>5</td>\n",
       "      <td>4.900000</td>\n",
       "    </tr>\n",
       "    <tr>\n",
       "      <th>9.0</th>\n",
       "      <td>3</td>\n",
       "      <td>5.000000</td>\n",
       "    </tr>\n",
       "    <tr>\n",
       "      <th>10.0</th>\n",
       "      <td>2</td>\n",
       "      <td>5.000000</td>\n",
       "    </tr>\n",
       "    <tr>\n",
       "      <th>11.0</th>\n",
       "      <td>2</td>\n",
       "      <td>5.000000</td>\n",
       "    </tr>\n",
       "    <tr>\n",
       "      <th>12.0</th>\n",
       "      <td>1</td>\n",
       "      <td>5.000000</td>\n",
       "    </tr>\n",
       "    <tr>\n",
       "      <th>14.0</th>\n",
       "      <td>2</td>\n",
       "      <td>4.500000</td>\n",
       "    </tr>\n",
       "    <tr>\n",
       "      <th>15.0</th>\n",
       "      <td>2</td>\n",
       "      <td>3.000000</td>\n",
       "    </tr>\n",
       "    <tr>\n",
       "      <th>22.0</th>\n",
       "      <td>1</td>\n",
       "      <td>5.000000</td>\n",
       "    </tr>\n",
       "  </tbody>\n",
       "</table>\n",
       "</div>"
      ],
      "text/plain": [
       "                 Questions Asked    Rating\n",
       "Questions Asked                           \n",
       "0.0                         3867  4.765193\n",
       "1.0                          276  4.740942\n",
       "2.0                           80  4.806250\n",
       "3.0                           43  4.744186\n",
       "4.0                           15  4.833333\n",
       "5.0                           13  4.653846\n",
       "6.0                            9  5.000000\n",
       "7.0                            2  4.750000\n",
       "8.0                            5  4.900000\n",
       "9.0                            3  5.000000\n",
       "10.0                           2  5.000000\n",
       "11.0                           2  5.000000\n",
       "12.0                           1  5.000000\n",
       "14.0                           2  4.500000\n",
       "15.0                           2  3.000000\n",
       "22.0                           1  5.000000"
      ]
     },
     "execution_count": 6,
     "metadata": {},
     "output_type": "execute_result"
    }
   ],
   "source": [
    "# Rating by users asked questions\n",
    "df.groupby(\"Questions Asked\").agg({\"Questions Asked\" : \"count\",\n",
    "                          \"Rating\" : \"mean\"})"
   ]
  },
  {
   "cell_type": "markdown",
   "id": "00d57ba7",
   "metadata": {},
   "source": [
    "## 1.1 Average"
   ]
  },
  {
   "cell_type": "code",
   "execution_count": 8,
   "id": "cb656026",
   "metadata": {},
   "outputs": [
    {
     "data": {
      "text/html": [
       "<div>\n",
       "<style scoped>\n",
       "    .dataframe tbody tr th:only-of-type {\n",
       "        vertical-align: middle;\n",
       "    }\n",
       "\n",
       "    .dataframe tbody tr th {\n",
       "        vertical-align: top;\n",
       "    }\n",
       "\n",
       "    .dataframe thead th {\n",
       "        text-align: right;\n",
       "    }\n",
       "</style>\n",
       "<table border=\"1\" class=\"dataframe\">\n",
       "  <thead>\n",
       "    <tr style=\"text-align: right;\">\n",
       "      <th></th>\n",
       "      <th>Rating</th>\n",
       "      <th>Timestamp</th>\n",
       "      <th>Enrolled</th>\n",
       "      <th>Progress</th>\n",
       "      <th>Questions Asked</th>\n",
       "      <th>Questions Answered</th>\n",
       "    </tr>\n",
       "  </thead>\n",
       "  <tbody>\n",
       "    <tr>\n",
       "      <th>0</th>\n",
       "      <td>5.0</td>\n",
       "      <td>2021-02-05 07:45:55</td>\n",
       "      <td>2021-01-25 15:12:08</td>\n",
       "      <td>5.0</td>\n",
       "      <td>0.0</td>\n",
       "      <td>0.0</td>\n",
       "    </tr>\n",
       "    <tr>\n",
       "      <th>1</th>\n",
       "      <td>5.0</td>\n",
       "      <td>2021-02-04 21:05:32</td>\n",
       "      <td>2021-02-04 20:43:40</td>\n",
       "      <td>1.0</td>\n",
       "      <td>0.0</td>\n",
       "      <td>0.0</td>\n",
       "    </tr>\n",
       "    <tr>\n",
       "      <th>2</th>\n",
       "      <td>4.5</td>\n",
       "      <td>2021-02-04 20:34:03</td>\n",
       "      <td>2019-07-04 23:23:27</td>\n",
       "      <td>1.0</td>\n",
       "      <td>0.0</td>\n",
       "      <td>0.0</td>\n",
       "    </tr>\n",
       "    <tr>\n",
       "      <th>3</th>\n",
       "      <td>5.0</td>\n",
       "      <td>2021-02-04 16:56:28</td>\n",
       "      <td>2021-02-04 14:41:29</td>\n",
       "      <td>10.0</td>\n",
       "      <td>0.0</td>\n",
       "      <td>0.0</td>\n",
       "    </tr>\n",
       "    <tr>\n",
       "      <th>4</th>\n",
       "      <td>4.0</td>\n",
       "      <td>2021-02-04 15:00:24</td>\n",
       "      <td>2020-10-13 03:10:07</td>\n",
       "      <td>10.0</td>\n",
       "      <td>0.0</td>\n",
       "      <td>0.0</td>\n",
       "    </tr>\n",
       "  </tbody>\n",
       "</table>\n",
       "</div>"
      ],
      "text/plain": [
       "   Rating            Timestamp             Enrolled  Progress  \\\n",
       "0     5.0  2021-02-05 07:45:55  2021-01-25 15:12:08       5.0   \n",
       "1     5.0  2021-02-04 21:05:32  2021-02-04 20:43:40       1.0   \n",
       "2     4.5  2021-02-04 20:34:03  2019-07-04 23:23:27       1.0   \n",
       "3     5.0  2021-02-04 16:56:28  2021-02-04 14:41:29      10.0   \n",
       "4     4.0  2021-02-04 15:00:24  2020-10-13 03:10:07      10.0   \n",
       "\n",
       "   Questions Asked  Questions Answered  \n",
       "0              0.0                 0.0  \n",
       "1              0.0                 0.0  \n",
       "2              0.0                 0.0  \n",
       "3              0.0                 0.0  \n",
       "4              0.0                 0.0  "
      ]
     },
     "execution_count": 8,
     "metadata": {},
     "output_type": "execute_result"
    }
   ],
   "source": [
    "df.head()"
   ]
  },
  {
   "cell_type": "code",
   "execution_count": 9,
   "id": "a6e0aacd",
   "metadata": {},
   "outputs": [
    {
     "data": {
      "text/plain": [
       "4.764284061993986"
      ]
     },
     "execution_count": 9,
     "metadata": {},
     "output_type": "execute_result"
    }
   ],
   "source": [
    "df[\"Rating\"].mean()"
   ]
  },
  {
   "cell_type": "markdown",
   "id": "eedb6ab1",
   "metadata": {},
   "source": [
    "#### In Average, we only averaged Rating scores, but we need to include the concept of time because customers may be happy in the first month but not in the other months.\n"
   ]
  },
  {
   "cell_type": "markdown",
   "id": "966b46ca",
   "metadata": {},
   "source": [
    "## 1.2 Time-Based Weight Average"
   ]
  },
  {
   "cell_type": "code",
   "execution_count": 10,
   "id": "bd8bf62d",
   "metadata": {},
   "outputs": [
    {
     "name": "stdout",
     "output_type": "stream",
     "text": [
      "<class 'pandas.core.frame.DataFrame'>\n",
      "RangeIndex: 4323 entries, 0 to 4322\n",
      "Data columns (total 6 columns):\n",
      " #   Column              Non-Null Count  Dtype  \n",
      "---  ------              --------------  -----  \n",
      " 0   Rating              4323 non-null   float64\n",
      " 1   Timestamp           4323 non-null   object \n",
      " 2   Enrolled            4323 non-null   object \n",
      " 3   Progress            4323 non-null   float64\n",
      " 4   Questions Asked     4323 non-null   float64\n",
      " 5   Questions Answered  4323 non-null   float64\n",
      "dtypes: float64(4), object(2)\n",
      "memory usage: 202.8+ KB\n"
     ]
    }
   ],
   "source": [
    "df.info()\n",
    "df[\"Timestamp\"] = pd.to_datetime(df[\"Timestamp\"]) # converting object to datetime64 for \"Timestamp\"\n",
    "current_date = pd.to_datetime(\"2021-02-10 0:0:0\")"
   ]
  },
  {
   "cell_type": "code",
   "execution_count": 11,
   "id": "806f5618",
   "metadata": {
    "scrolled": true
   },
   "outputs": [
    {
     "data": {
      "text/html": [
       "<div>\n",
       "<style scoped>\n",
       "    .dataframe tbody tr th:only-of-type {\n",
       "        vertical-align: middle;\n",
       "    }\n",
       "\n",
       "    .dataframe tbody tr th {\n",
       "        vertical-align: top;\n",
       "    }\n",
       "\n",
       "    .dataframe thead th {\n",
       "        text-align: right;\n",
       "    }\n",
       "</style>\n",
       "<table border=\"1\" class=\"dataframe\">\n",
       "  <thead>\n",
       "    <tr style=\"text-align: right;\">\n",
       "      <th></th>\n",
       "      <th>Rating</th>\n",
       "      <th>Timestamp</th>\n",
       "      <th>Enrolled</th>\n",
       "      <th>Progress</th>\n",
       "      <th>Questions Asked</th>\n",
       "      <th>Questions Answered</th>\n",
       "      <th>Days</th>\n",
       "    </tr>\n",
       "  </thead>\n",
       "  <tbody>\n",
       "    <tr>\n",
       "      <th>0</th>\n",
       "      <td>5.0</td>\n",
       "      <td>2021-02-05 07:45:55</td>\n",
       "      <td>2021-01-25 15:12:08</td>\n",
       "      <td>5.0</td>\n",
       "      <td>0.0</td>\n",
       "      <td>0.0</td>\n",
       "      <td>4</td>\n",
       "    </tr>\n",
       "    <tr>\n",
       "      <th>1</th>\n",
       "      <td>5.0</td>\n",
       "      <td>2021-02-04 21:05:32</td>\n",
       "      <td>2021-02-04 20:43:40</td>\n",
       "      <td>1.0</td>\n",
       "      <td>0.0</td>\n",
       "      <td>0.0</td>\n",
       "      <td>5</td>\n",
       "    </tr>\n",
       "    <tr>\n",
       "      <th>2</th>\n",
       "      <td>4.5</td>\n",
       "      <td>2021-02-04 20:34:03</td>\n",
       "      <td>2019-07-04 23:23:27</td>\n",
       "      <td>1.0</td>\n",
       "      <td>0.0</td>\n",
       "      <td>0.0</td>\n",
       "      <td>5</td>\n",
       "    </tr>\n",
       "    <tr>\n",
       "      <th>3</th>\n",
       "      <td>5.0</td>\n",
       "      <td>2021-02-04 16:56:28</td>\n",
       "      <td>2021-02-04 14:41:29</td>\n",
       "      <td>10.0</td>\n",
       "      <td>0.0</td>\n",
       "      <td>0.0</td>\n",
       "      <td>5</td>\n",
       "    </tr>\n",
       "    <tr>\n",
       "      <th>4</th>\n",
       "      <td>4.0</td>\n",
       "      <td>2021-02-04 15:00:24</td>\n",
       "      <td>2020-10-13 03:10:07</td>\n",
       "      <td>10.0</td>\n",
       "      <td>0.0</td>\n",
       "      <td>0.0</td>\n",
       "      <td>5</td>\n",
       "    </tr>\n",
       "  </tbody>\n",
       "</table>\n",
       "</div>"
      ],
      "text/plain": [
       "   Rating           Timestamp             Enrolled  Progress  Questions Asked  \\\n",
       "0     5.0 2021-02-05 07:45:55  2021-01-25 15:12:08       5.0              0.0   \n",
       "1     5.0 2021-02-04 21:05:32  2021-02-04 20:43:40       1.0              0.0   \n",
       "2     4.5 2021-02-04 20:34:03  2019-07-04 23:23:27       1.0              0.0   \n",
       "3     5.0 2021-02-04 16:56:28  2021-02-04 14:41:29      10.0              0.0   \n",
       "4     4.0 2021-02-04 15:00:24  2020-10-13 03:10:07      10.0              0.0   \n",
       "\n",
       "   Questions Answered  Days  \n",
       "0                 0.0     4  \n",
       "1                 0.0     5  \n",
       "2                 0.0     5  \n",
       "3                 0.0     5  \n",
       "4                 0.0     5  "
      ]
     },
     "execution_count": 11,
     "metadata": {},
     "output_type": "execute_result"
    }
   ],
   "source": [
    "# 1.2.1 Creating \"days\" columns \n",
    "df[\"Days\"] = (current_date - df[\"Timestamp\"]).dt.days\n",
    "df.head()"
   ]
  },
  {
   "cell_type": "markdown",
   "id": "573d2c87",
   "metadata": {},
   "source": [
    "#### We're going to create Time-Based Weight Average according to Rating and Days"
   ]
  },
  {
   "cell_type": "code",
   "execution_count": 16,
   "id": "44ae9af8",
   "metadata": {},
   "outputs": [
    {
     "data": {
      "text/plain": [
       "4.763547811848779"
      ]
     },
     "execution_count": 16,
     "metadata": {},
     "output_type": "execute_result"
    }
   ],
   "source": [
    "df.loc[df[\"Days\"] <= 30, \"Rating\"].mean() * 28 / 100 + \\\n",
    "df.loc[(df[\"Days\"] > 30) & (df[\"Days\"] <= 90), \"Rating\"].mean() * 26 / 100 + \\\n",
    "df.loc[(df[\"Days\"] > 90) & (df[\"Days\"] <= 180), \"Rating\"].mean() * 24 / 100 + \\\n",
    "df.loc[df[\"Days\"] < 180, \"Rating\"].mean() * 22 / 100"
   ]
  },
  {
   "cell_type": "code",
   "execution_count": 17,
   "id": "96dfa4ee",
   "metadata": {},
   "outputs": [
    {
     "data": {
      "text/plain": [
       "4.763547811848779"
      ]
     },
     "execution_count": 17,
     "metadata": {},
     "output_type": "execute_result"
    }
   ],
   "source": [
    "# Let's create a function \n",
    "def time_based_weighted_average (dataframe, w1 = 28, w2 = 26, w3 = 24, w4 = 22) :\n",
    "    return  df.loc[df[\"Days\"] <= 30, \"Rating\"].mean() * w1 / 100 + \\\n",
    "            df.loc[(df[\"Days\"] > 30) & (df[\"Days\"] <= 90), \"Rating\"].mean() * w2 / 100 + \\\n",
    "            df.loc[(df[\"Days\"] > 90) & (df[\"Days\"] <= 180), \"Rating\"].mean() * w3 / 100 + \\\n",
    "            df.loc[df[\"Days\"] < 180, \"Rating\"].mean() * w4 / 100\n",
    "time_based_weighted_average(df,28,26,24,22)"
   ]
  },
  {
   "cell_type": "markdown",
   "id": "03a0ae5e",
   "metadata": {},
   "source": [
    "## 1.3 User - Based Weighted Average"
   ]
  },
  {
   "cell_type": "code",
   "execution_count": 18,
   "id": "11d543f3",
   "metadata": {
    "scrolled": false
   },
   "outputs": [
    {
     "data": {
      "text/html": [
       "<div>\n",
       "<style scoped>\n",
       "    .dataframe tbody tr th:only-of-type {\n",
       "        vertical-align: middle;\n",
       "    }\n",
       "\n",
       "    .dataframe tbody tr th {\n",
       "        vertical-align: top;\n",
       "    }\n",
       "\n",
       "    .dataframe thead th {\n",
       "        text-align: right;\n",
       "    }\n",
       "</style>\n",
       "<table border=\"1\" class=\"dataframe\">\n",
       "  <thead>\n",
       "    <tr style=\"text-align: right;\">\n",
       "      <th></th>\n",
       "      <th>Rating</th>\n",
       "    </tr>\n",
       "    <tr>\n",
       "      <th>Progress</th>\n",
       "      <th></th>\n",
       "    </tr>\n",
       "  </thead>\n",
       "  <tbody>\n",
       "    <tr>\n",
       "      <th>0.0</th>\n",
       "      <td>4.673913</td>\n",
       "    </tr>\n",
       "    <tr>\n",
       "      <th>1.0</th>\n",
       "      <td>4.642691</td>\n",
       "    </tr>\n",
       "    <tr>\n",
       "      <th>2.0</th>\n",
       "      <td>4.654762</td>\n",
       "    </tr>\n",
       "    <tr>\n",
       "      <th>3.0</th>\n",
       "      <td>4.663551</td>\n",
       "    </tr>\n",
       "    <tr>\n",
       "      <th>4.0</th>\n",
       "      <td>4.777328</td>\n",
       "    </tr>\n",
       "    <tr>\n",
       "      <th>...</th>\n",
       "      <td>...</td>\n",
       "    </tr>\n",
       "    <tr>\n",
       "      <th>94.0</th>\n",
       "      <td>5.000000</td>\n",
       "    </tr>\n",
       "    <tr>\n",
       "      <th>95.0</th>\n",
       "      <td>4.794118</td>\n",
       "    </tr>\n",
       "    <tr>\n",
       "      <th>97.0</th>\n",
       "      <td>5.000000</td>\n",
       "    </tr>\n",
       "    <tr>\n",
       "      <th>98.0</th>\n",
       "      <td>5.000000</td>\n",
       "    </tr>\n",
       "    <tr>\n",
       "      <th>100.0</th>\n",
       "      <td>4.866319</td>\n",
       "    </tr>\n",
       "  </tbody>\n",
       "</table>\n",
       "<p>91 rows × 1 columns</p>\n",
       "</div>"
      ],
      "text/plain": [
       "            Rating\n",
       "Progress          \n",
       "0.0       4.673913\n",
       "1.0       4.642691\n",
       "2.0       4.654762\n",
       "3.0       4.663551\n",
       "4.0       4.777328\n",
       "...            ...\n",
       "94.0      5.000000\n",
       "95.0      4.794118\n",
       "97.0      5.000000\n",
       "98.0      5.000000\n",
       "100.0     4.866319\n",
       "\n",
       "[91 rows x 1 columns]"
      ]
     },
     "execution_count": 18,
     "metadata": {},
     "output_type": "execute_result"
    }
   ],
   "source": [
    "# Should all users have the same score? NO\n",
    "df.groupby(\"Progress\").agg({\"Rating\" : \"mean\"})"
   ]
  },
  {
   "cell_type": "markdown",
   "id": "d0673199",
   "metadata": {},
   "source": [
    "#### We're going to create function of User-Based Weight Average according to Course Progress and Rating\n"
   ]
  },
  {
   "cell_type": "code",
   "execution_count": 19,
   "id": "685aca04",
   "metadata": {},
   "outputs": [
    {
     "data": {
      "text/plain": [
       "4.800257704672543"
      ]
     },
     "execution_count": 19,
     "metadata": {},
     "output_type": "execute_result"
    }
   ],
   "source": [
    "def user_based_weighted_average(dataframe, w1 = 22, w2 = 24, w3 = 26, w4 = 28):\n",
    "    return  df.loc[df[\"Progress\"] <= 10, \"Rating\"].mean() * w1 / 100 + \\\n",
    "            df.loc[(df[\"Progress\"] > 10) & (df[\"Progress\"] <= 45), \"Rating\"].mean() * w2 / 100 + \\\n",
    "            df.loc[(df[\"Progress\"] > 45) & (df[\"Progress\"] <= 75), \"Rating\"].mean() * w3 / 100 + \\\n",
    "            df.loc[(df[\"Progress\"] > 75), \"Rating\"].mean() * w4 / 100\n",
    "\n",
    "user_based_weighted_average(df,22,24,26,28)"
   ]
  },
  {
   "cell_type": "markdown",
   "id": "4c2bccf4",
   "metadata": {},
   "source": [
    "## 1.4 Weighted Rating"
   ]
  },
  {
   "cell_type": "markdown",
   "id": "261a8704",
   "metadata": {},
   "source": [
    "#### Let's put these two weightings together and weight them again.\n"
   ]
  },
  {
   "cell_type": "code",
   "execution_count": 20,
   "id": "c8b45808",
   "metadata": {},
   "outputs": [
    {
     "data": {
      "text/plain": [
       "4.785573747543037"
      ]
     },
     "execution_count": 20,
     "metadata": {},
     "output_type": "execute_result"
    }
   ],
   "source": [
    "def course_weighted_rating(dataframe, time_w = 50, user_w = 50):\n",
    "    return time_based_weighted_average(dataframe) * time_w / 100 + user_based_weighted_average(dataframe) * user_w / 100\n",
    "\n",
    "course_weighted_rating(df,40,60)"
   ]
  },
  {
   "cell_type": "markdown",
   "id": "0f08902e",
   "metadata": {},
   "source": [
    "### Calculates the overall rating of a course by combining two different evaluation criteria:\n",
    "#### - Time-based evaluation: Based on how recently users rated the course.\n",
    "#### - User-based evaluation: Based on how much of the course users have completed.\n",
    "\n",
    "### This approach creates a more balanced and reliable course rating score."
   ]
  },
  {
   "cell_type": "code",
   "execution_count": null,
   "id": "96e62687",
   "metadata": {},
   "outputs": [],
   "source": []
  }
 ],
 "metadata": {
  "kernelspec": {
   "display_name": "Python 3 (ipykernel)",
   "language": "python",
   "name": "python3"
  },
  "language_info": {
   "codemirror_mode": {
    "name": "ipython",
    "version": 3
   },
   "file_extension": ".py",
   "mimetype": "text/x-python",
   "name": "python",
   "nbconvert_exporter": "python",
   "pygments_lexer": "ipython3",
   "version": "3.11.5"
  }
 },
 "nbformat": 4,
 "nbformat_minor": 5
}
