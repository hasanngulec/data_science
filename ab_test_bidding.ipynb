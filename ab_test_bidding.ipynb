{
 "cells": [
  {
   "cell_type": "markdown",
   "id": "6fc3ae84",
   "metadata": {},
   "source": [
    "# AB Testi ile BiddingYöntemlerinin Dönüşümünün Karşılaştırılması"
   ]
  },
  {
   "cell_type": "markdown",
   "id": "067a08cb",
   "metadata": {},
   "source": [
    "### AB Testi Nedir ?  \n",
    "* İki farklı versiyonun (A ve B) performansını istatistiksel olarak karşılaştırarak, hangisinin daha etkili olduğunu belirlemeye yarayan deney yöntemidir.\n",
    "\n",
    "### Bidding Yöntemleri: \n",
    "* Dijital pazarlama ve reklam kampanyalarında, belirlenen hedeflere göre reklamın ne kadar ödeneceğini ve hangi kitleye gösterileceğini optimize etmeye yönelik teklif stratejileridir.\n",
    "\n",
    "### A/B Testi ile Bidding Yöntemleri: \n",
    "* Farklı teklif (bidding) stratejilerinin performansını karşılaştırıp en yüksek dönüşüm veya en düşük maliyet gibi hedeflere ulaşmada en etkili stratejiyi seçmeye yardımcı olan yöntemler bütünüdür."
   ]
  },
  {
   "cell_type": "markdown",
   "id": "d61ae363",
   "metadata": {},
   "source": [
    "## İş Problemi\n",
    "* Bir firma, kısa süre önce mevcut \"maximum bidding\" adı verilen teklif verme türüne alternatif olarak yeni bir teklif türü olan \"average bidding\"’i tanıttı.\n",
    "\n",
    "* Müşterilerimizden biri olan X şirketi, bu yeni özelliği test etmeye karar verdi ve average bidding'in maximum bidding'den daha fazla dönüşüm getirip getirmediğini anlamak için bir A/B testi yapmak istiyor.\n",
    "\n",
    "* A/B testi 1 aydır devam ediyor ve X şirketi şimdi sizden bu A/B testinin sonuçlarını analiz etmenizi bekliyor. X şirketi için nihai başarı ölçütü Purchase'dır. Bu nedenle, istatistiksel testler için Purchase metriğine odaklanılmalıdır."
   ]
  },
  {
   "cell_type": "markdown",
   "id": "eb846e01",
   "metadata": {},
   "source": [
    "## Veri Seti Hikayesi\n",
    "* Bir firmanın web site bilgilerini içeren bu veri setinde kullanıcıların gördükleri ve tıkladıkları reklam sayıları gibi bilgilerin yanı sıra buradan gelen kazanç bilgileri yer almaktadır. Kontrol ve Test grubu olmak üzere iki ayrı veri seti vardır. Kontrol grubuna Maximum Bidding, test grubuna Average Bidding uygulanmıştır."
   ]
  },
  {
   "cell_type": "markdown",
   "id": "2f9681c2",
   "metadata": {},
   "source": [
    "## Değişkenler\n",
    "* Impression: Reklam görüntüleme sayısı\n",
    "* Click: Görüntülenen reklama tıklama sayısı\n",
    "* Purchase: Tıklanan reklamlar sonrası satın alınan ürün sayısı\n",
    "* Earning: Satın alınan ürünler sonrası elde edilen kazanç"
   ]
  },
  {
   "cell_type": "code",
   "execution_count": 4,
   "id": "03d3c4ab",
   "metadata": {},
   "outputs": [],
   "source": [
    "import pandas as pd\n",
    "import numpy as np\n",
    "import pandas as pd\n",
    "import matplotlib.pyplot as plt\n",
    "from scipy.stats import shapiro, levene, ttest_ind\n",
    "pd.set_option('display.float_format', lambda x: '%.5f' % x)"
   ]
  },
  {
   "cell_type": "code",
   "execution_count": 7,
   "id": "ab1aba72",
   "metadata": {},
   "outputs": [],
   "source": [
    "dataframe_control = pd.read_excel(\"/ab_testing.xlsx\", sheet_name=\"Control Group\")\n",
    "dataframe_test = pd.read_excel(\"/ab_testing.xlsx\", sheet_name=\"Test Group\")\n",
    "\n",
    "df_control = dataframe_control.copy()\n",
    "df_test = dataframe_test.copy()"
   ]
  },
  {
   "cell_type": "markdown",
   "id": "a0ecb840",
   "metadata": {},
   "source": [
    "## 1) Veriyi Anlama ve Hazırlama"
   ]
  },
  {
   "cell_type": "markdown",
   "id": "2de81c0e",
   "metadata": {},
   "source": [
    "### Veri setimize basit bir fonksiyon ile hızlıca bakalım."
   ]
  },
  {
   "cell_type": "code",
   "execution_count": 11,
   "id": "85363baa",
   "metadata": {},
   "outputs": [
    {
     "name": "stdout",
     "output_type": "stream",
     "text": [
      "##################### Shape #####################\n",
      "(40, 4)\n",
      "##################### Types #####################\n",
      "Impression    float64\n",
      "Click         float64\n",
      "Purchase      float64\n",
      "Earning       float64\n",
      "dtype: object\n",
      "##################### Head #####################\n",
      "    Impression      Click  Purchase    Earning\n",
      "0  82529.45927 6090.07732 665.21125 2311.27714\n",
      "1  98050.45193 3382.86179 315.08489 1742.80686\n",
      "2  82696.02355 4167.96575 458.08374 1797.82745\n",
      "3 109914.40040 4910.88224 487.09077 1696.22918\n",
      "4 108457.76263 5987.65581 441.03405 1543.72018\n",
      "##################### Tail #####################\n",
      "     Impression      Click  Purchase    Earning\n",
      "35 132064.21900 3747.15754 551.07241 2256.97559\n",
      "36  86409.94180 4608.25621 345.04603 1781.35769\n",
      "37 123678.93423 3649.07379 476.16813 2187.72122\n",
      "38 101997.49410 4736.35337 474.61354 2254.56383\n",
      "39 121085.88122 4285.17861 590.40602 1289.30895\n",
      "##################### NA #####################\n",
      "Impression    0\n",
      "Click         0\n",
      "Purchase      0\n",
      "Earning       0\n",
      "dtype: int64\n",
      "##################### Quantiles #####################\n",
      "               0.00000     0.05000     0.50000      0.95000      0.99000  \\\n",
      "Impression 45475.94296 79412.01792 99790.70108 132950.53245 143105.79110   \n",
      "Click       2189.75316  3367.48426  5001.22060   7374.36120   7761.79511   \n",
      "Purchase     267.02894   328.66242   531.20631    748.27076    790.18779   \n",
      "Earning     1253.98952  1329.57708  1975.16052   2318.52850   2481.30874   \n",
      "\n",
      "                1.00000  \n",
      "Impression 147539.33633  \n",
      "Click        7959.12507  \n",
      "Purchase      801.79502  \n",
      "Earning      2497.29522  \n",
      "********************************************************************************************************\n",
      "##################### Shape #####################\n",
      "(40, 4)\n",
      "##################### Types #####################\n",
      "Impression    float64\n",
      "Click         float64\n",
      "Purchase      float64\n",
      "Earning       float64\n",
      "dtype: object\n",
      "##################### Head #####################\n",
      "    Impression      Click  Purchase    Earning\n",
      "0 120103.50380 3216.54796 702.16035 1939.61124\n",
      "1 134775.94336 3635.08242 834.05429 2929.40582\n",
      "2 107806.62079 3057.14356 422.93426 2526.24488\n",
      "3 116445.27553 4650.47391 429.03353 2281.42857\n",
      "4 145082.51684 5201.38772 749.86044 2781.69752\n",
      "##################### Tail #####################\n",
      "     Impression      Click  Purchase    Earning\n",
      "35  79234.91193 6002.21358 382.04712 2277.86398\n",
      "36 130702.23941 3626.32007 449.82459 2530.84133\n",
      "37 116481.87337 4702.78247 472.45373 2597.91763\n",
      "38  79033.83492 4495.42818 425.35910 2595.85788\n",
      "39 102257.45409 4800.06832 521.31073 2967.51839\n",
      "##################### NA #####################\n",
      "Impression    0\n",
      "Click         0\n",
      "Purchase      0\n",
      "Earning       0\n",
      "dtype: int64\n",
      "##################### Quantiles #####################\n",
      "               0.00000     0.05000      0.50000      0.95000      0.99000  \\\n",
      "Impression 79033.83492 83150.50378 119291.30077 153178.69106 158245.26380   \n",
      "Click       1836.62986  2600.36102   3931.35980   5271.18691   6012.87730   \n",
      "Purchase     311.62952   356.69540    551.35573    854.20895    876.57610   \n",
      "Earning     1939.61124  2080.97621   2544.66611   2931.31145   3091.94089   \n",
      "\n",
      "                1.00000  \n",
      "Impression 158605.92048  \n",
      "Click        6019.69508  \n",
      "Purchase      889.91046  \n",
      "Earning      3171.48971  \n"
     ]
    }
   ],
   "source": [
    "import matplotlib.pyplot as plt\n",
    "\n",
    "def check_df(dataframe, head=5):\n",
    "    print(\"##################### Shape #####################\")\n",
    "    print(dataframe.shape)\n",
    "    print(\"##################### Types #####################\")\n",
    "    print(dataframe.dtypes)\n",
    "    print(\"##################### Head #####################\")\n",
    "    print(dataframe.head())\n",
    "    print(\"##################### Tail #####################\")\n",
    "    print(dataframe.tail())\n",
    "    print(\"##################### NA #####################\")\n",
    "    print(dataframe.isnull().sum())\n",
    "    print(\"##################### Quantiles #####################\")\n",
    "    print(dataframe.quantile([0, 0.05, 0.50, 0.95, 0.99, 1]).T)\n",
    "    \n",
    "check_df(df_control)\n",
    "print(\"********************************************************************************************************\")\n",
    "check_df(df_test)"
   ]
  },
  {
   "cell_type": "markdown",
   "id": "1fd190d3",
   "metadata": {},
   "source": [
    "### Her iki df'ide birleştirelim."
   ]
  },
  {
   "cell_type": "code",
   "execution_count": 12,
   "id": "3ba2cb2b",
   "metadata": {},
   "outputs": [
    {
     "name": "stdout",
     "output_type": "stream",
     "text": [
      "    Impression      Click  Purchase    Earning    group\n",
      "0  82529.45927 6090.07732 665.21125 2311.27714  control\n",
      "1  98050.45193 3382.86179 315.08489 1742.80686  control\n",
      "2  82696.02355 4167.96575 458.08374 1797.82745  control\n",
      "3 109914.40040 4910.88224 487.09077 1696.22918  control\n",
      "4 108457.76263 5987.65581 441.03405 1543.72018  control\n",
      "     Impression      Click  Purchase    Earning group\n",
      "35  79234.91193 6002.21358 382.04712 2277.86398  test\n",
      "36 130702.23941 3626.32007 449.82459 2530.84133  test\n",
      "37 116481.87337 4702.78247 472.45373 2597.91763  test\n",
      "38  79033.83492 4495.42818 425.35910 2595.85788  test\n",
      "39 102257.45409 4800.06832 521.31073 2967.51839  test\n"
     ]
    }
   ],
   "source": [
    "df_control[\"group\"] = \"control\"\n",
    "df_test[\"group\"] = \"test\"\n",
    "\n",
    "df = pd.concat([df_control,df_test], axis=0,ignore_index=False)\n",
    "print(df.head())\n",
    "print(df.tail())"
   ]
  },
  {
   "cell_type": "markdown",
   "id": "5f42683b",
   "metadata": {},
   "source": [
    "## 2) Hipotezi oluşturalım."
   ]
  },
  {
   "cell_type": "markdown",
   "id": "a2751b64",
   "metadata": {},
   "source": [
    "# H0 : M1 = M2 (Kontrol grubu ve test grubu satın alma ortalamaları arasında fark yoktur.)\n",
    "# H1 : M1!= M2 (Kontrol grubu ve test grubu satın alma ortalamaları arasında fark vardır.)\n"
   ]
  },
  {
   "cell_type": "markdown",
   "id": "f11c7c2e",
   "metadata": {},
   "source": [
    "### Adım 1: Hipotez testi yapılmadan önce varsayım kontrollerini yapınız.\n",
    "\n",
    "### 1) Normallik Varsayımı \n",
    "* H0: Normal dağılım varsayımı sağlanmaktadır.\n",
    "* H1: Normal dağılım varsayımı sağlanmamaktadır"
   ]
  },
  {
   "cell_type": "code",
   "execution_count": 14,
   "id": "69527636",
   "metadata": {},
   "outputs": [
    {
     "name": "stdout",
     "output_type": "stream",
     "text": [
      "Test Stat = 0.9773, p-value = 0.5891\n"
     ]
    }
   ],
   "source": [
    "test_stat, pvalue = shapiro(df.loc[df[\"group\"] == \"control\", \"Purchase\"])\n",
    "print('Test Stat = %.4f, p-value = %.4f' % (test_stat, pvalue))"
   ]
  },
  {
   "cell_type": "markdown",
   "id": "8f62d6b0",
   "metadata": {},
   "source": [
    "* p-value=0.5891\n",
    "* HO reddedilemez. Control grubunun değerleri normal dağılım varsayımını sağlamaktadır.\n"
   ]
  },
  {
   "cell_type": "markdown",
   "id": "b752590c",
   "metadata": {},
   "source": [
    "### 2) Varyans Homojenliği Varsayımı\n",
    "* H0: Varyanslar homojendir.\n",
    "* H1: Varyanslar homojen değildir."
   ]
  },
  {
   "cell_type": "code",
   "execution_count": 15,
   "id": "0656b727",
   "metadata": {},
   "outputs": [
    {
     "name": "stdout",
     "output_type": "stream",
     "text": [
      "Test Stat = 2.6393, p-value = 0.1083\n"
     ]
    }
   ],
   "source": [
    "test_stat, pvalue = levene(df.loc[df[\"group\"] == \"control\", \"Purchase\"],\n",
    "                           df.loc[df[\"group\"] == \"test\", \"Purchase\"])\n",
    "print('Test Stat = %.4f, p-value = %.4f' % (test_stat, pvalue))"
   ]
  },
  {
   "cell_type": "markdown",
   "id": "106e6240",
   "metadata": {},
   "source": [
    "* p-value=0.1083\n",
    "* HO reddedilemez. Control ve Test grubunun değerleri varyans homejenliği varsayımını sağlamaktadır.\n",
    "* Varyanslar Homojendir."
   ]
  },
  {
   "cell_type": "markdown",
   "id": "bc24caf6",
   "metadata": {},
   "source": [
    "### Adım 2: Normallik Varsayımı ve Varyans Homojenliği sonuçlarına göre uygun testi seçilmeli\n"
   ]
  },
  {
   "cell_type": "markdown",
   "id": "3f9b2f32",
   "metadata": {},
   "source": [
    "### Varsayımlar sağlandığı için bağımsız iki örneklem t testi (parametrik test) yapılmaktadır.\n",
    "* H0: M1 = M2 (Kontrol grubu ve test grubu satın alma ortalamaları arasında ist. ol.anl.fark yoktur.)\n",
    "* H1: M1 != M2 (Kontrol grubu ve test grubu satın alma ortalamaları arasında ist. ol.anl.fark vardır)\n",
    "* p<0.05 HO RED , p>0.05 HO REDDEDİLEMEZ"
   ]
  },
  {
   "cell_type": "code",
   "execution_count": 16,
   "id": "f308bfcb",
   "metadata": {},
   "outputs": [
    {
     "name": "stdout",
     "output_type": "stream",
     "text": [
      "Test Stat = -0.9416, p-value = 0.3493\n"
     ]
    }
   ],
   "source": [
    "test_stat, pvalue = ttest_ind(df.loc[df[\"group\"] == \"control\", \"Purchase\"],\n",
    "                              df.loc[df[\"group\"] == \"test\", \"Purchase\"],\n",
    "                              equal_var=True)\n",
    "\n",
    "print('Test Stat = %.4f, p-value = %.4f' % (test_stat, pvalue))"
   ]
  },
  {
   "cell_type": "markdown",
   "id": "58af804e",
   "metadata": {},
   "source": [
    "* p-value = 0.3493\n",
    "* p > 0.05 olduğundan, H0 REDDEDİLEMEZ.\n",
    "* HO reddedilemez. Kontrol ve test grubu satın alma ortalamaları arasında istatistiksel olarak anlamlı farklılık yoktur."
   ]
  },
  {
   "cell_type": "code",
   "execution_count": null,
   "id": "4f6614fa",
   "metadata": {},
   "outputs": [],
   "source": []
  }
 ],
 "metadata": {
  "kernelspec": {
   "display_name": "Python 3 (ipykernel)",
   "language": "python",
   "name": "python3"
  },
  "language_info": {
   "codemirror_mode": {
    "name": "ipython",
    "version": 3
   },
   "file_extension": ".py",
   "mimetype": "text/x-python",
   "name": "python",
   "nbconvert_exporter": "python",
   "pygments_lexer": "ipython3",
   "version": "3.11.5"
  }
 },
 "nbformat": 4,
 "nbformat_minor": 5
}
