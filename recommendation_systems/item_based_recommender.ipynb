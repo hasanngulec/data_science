{
 "cells": [
  {
   "cell_type": "code",
   "execution_count": 1,
   "id": "c4916757",
   "metadata": {},
   "outputs": [],
   "source": [
    "import pandas as pd"
   ]
  },
  {
   "cell_type": "code",
   "execution_count": 2,
   "id": "fae7a340",
   "metadata": {},
   "outputs": [
    {
     "data": {
      "text/html": [
       "<div>\n",
       "<style scoped>\n",
       "    .dataframe tbody tr th:only-of-type {\n",
       "        vertical-align: middle;\n",
       "    }\n",
       "\n",
       "    .dataframe tbody tr th {\n",
       "        vertical-align: top;\n",
       "    }\n",
       "\n",
       "    .dataframe thead th {\n",
       "        text-align: right;\n",
       "    }\n",
       "</style>\n",
       "<table border=\"1\" class=\"dataframe\">\n",
       "  <thead>\n",
       "    <tr style=\"text-align: right;\">\n",
       "      <th></th>\n",
       "      <th>movieId</th>\n",
       "      <th>title</th>\n",
       "      <th>genres</th>\n",
       "      <th>userId</th>\n",
       "      <th>rating</th>\n",
       "      <th>timestamp</th>\n",
       "    </tr>\n",
       "  </thead>\n",
       "  <tbody>\n",
       "    <tr>\n",
       "      <th>0</th>\n",
       "      <td>1</td>\n",
       "      <td>Toy Story (1995)</td>\n",
       "      <td>Adventure|Animation|Children|Comedy|Fantasy</td>\n",
       "      <td>3.0</td>\n",
       "      <td>4.0</td>\n",
       "      <td>1999-12-11 13:36:47</td>\n",
       "    </tr>\n",
       "    <tr>\n",
       "      <th>1</th>\n",
       "      <td>1</td>\n",
       "      <td>Toy Story (1995)</td>\n",
       "      <td>Adventure|Animation|Children|Comedy|Fantasy</td>\n",
       "      <td>6.0</td>\n",
       "      <td>5.0</td>\n",
       "      <td>1997-03-13 17:50:52</td>\n",
       "    </tr>\n",
       "    <tr>\n",
       "      <th>2</th>\n",
       "      <td>1</td>\n",
       "      <td>Toy Story (1995)</td>\n",
       "      <td>Adventure|Animation|Children|Comedy|Fantasy</td>\n",
       "      <td>8.0</td>\n",
       "      <td>4.0</td>\n",
       "      <td>1996-06-05 13:37:51</td>\n",
       "    </tr>\n",
       "    <tr>\n",
       "      <th>3</th>\n",
       "      <td>1</td>\n",
       "      <td>Toy Story (1995)</td>\n",
       "      <td>Adventure|Animation|Children|Comedy|Fantasy</td>\n",
       "      <td>10.0</td>\n",
       "      <td>4.0</td>\n",
       "      <td>1999-11-25 02:44:47</td>\n",
       "    </tr>\n",
       "    <tr>\n",
       "      <th>4</th>\n",
       "      <td>1</td>\n",
       "      <td>Toy Story (1995)</td>\n",
       "      <td>Adventure|Animation|Children|Comedy|Fantasy</td>\n",
       "      <td>11.0</td>\n",
       "      <td>4.5</td>\n",
       "      <td>2009-01-02 01:13:41</td>\n",
       "    </tr>\n",
       "  </tbody>\n",
       "</table>\n",
       "</div>"
      ],
      "text/plain": [
       "   movieId             title                                       genres  \\\n",
       "0        1  Toy Story (1995)  Adventure|Animation|Children|Comedy|Fantasy   \n",
       "1        1  Toy Story (1995)  Adventure|Animation|Children|Comedy|Fantasy   \n",
       "2        1  Toy Story (1995)  Adventure|Animation|Children|Comedy|Fantasy   \n",
       "3        1  Toy Story (1995)  Adventure|Animation|Children|Comedy|Fantasy   \n",
       "4        1  Toy Story (1995)  Adventure|Animation|Children|Comedy|Fantasy   \n",
       "\n",
       "   userId  rating            timestamp  \n",
       "0     3.0     4.0  1999-12-11 13:36:47  \n",
       "1     6.0     5.0  1997-03-13 17:50:52  \n",
       "2     8.0     4.0  1996-06-05 13:37:51  \n",
       "3    10.0     4.0  1999-11-25 02:44:47  \n",
       "4    11.0     4.5  2009-01-02 01:13:41  "
      ]
     },
     "execution_count": 2,
     "metadata": {},
     "output_type": "execute_result"
    }
   ],
   "source": [
    "movie = pd.read_csv(\"/Users/hasangulec/Desktop/genel/data science path/Recommendation Systems/Kurs Materyalleri(Tavsiye Sistemleri)/datasets/movie_lens_dataset/movie.csv\")\n",
    "rating = pd.read_csv('/Users/hasangulec/Desktop/genel/data science path/Recommendation Systems/Kurs Materyalleri(Tavsiye Sistemleri)/datasets/movie_lens_dataset/rating.csv')\n",
    "df = movie.merge(rating, how=\"left\", on=\"movieId\")\n",
    "df.head()"
   ]
  },
  {
   "cell_type": "markdown",
   "id": "d342dcc2",
   "metadata": {},
   "source": [
    "#### Veri setimizde, kullanıcıların puanladığı filmler yer almaktadır.\n",
    "### Amacımız, Item Based methodunu kullanarak, filmlerin rate yapısına göre kullanıcılara film önerebilmektir."
   ]
  },
  {
   "cell_type": "code",
   "execution_count": 7,
   "id": "d022c78c",
   "metadata": {},
   "outputs": [
    {
     "data": {
      "text/plain": [
       "(20000797, 6)"
      ]
     },
     "execution_count": 7,
     "metadata": {},
     "output_type": "execute_result"
    }
   ],
   "source": [
    "df.shape # 20 milyon kullanıcının rate'i mevcut."
   ]
  },
  {
   "cell_type": "code",
   "execution_count": 8,
   "id": "4779c2fe",
   "metadata": {},
   "outputs": [
    {
     "data": {
      "text/plain": [
       "27262"
      ]
     },
     "execution_count": 8,
     "metadata": {},
     "output_type": "execute_result"
    }
   ],
   "source": [
    "df[\"title\"].nunique() # Veri setinde 27k film mevcut."
   ]
  },
  {
   "cell_type": "code",
   "execution_count": 9,
   "id": "128628c5",
   "metadata": {},
   "outputs": [
    {
     "data": {
      "text/plain": [
       "title\n",
       "Pulp Fiction (1994)                 67310\n",
       "Forrest Gump (1994)                 66172\n",
       "Shawshank Redemption, The (1994)    63366\n",
       "Silence of the Lambs, The (1991)    63299\n",
       "Jurassic Park (1993)                59715\n",
       "Name: count, dtype: int64"
      ]
     },
     "execution_count": 9,
     "metadata": {},
     "output_type": "execute_result"
    }
   ],
   "source": [
    "df[\"title\"].value_counts().head() # En çok rate edilen ilk 10 film"
   ]
  },
  {
   "cell_type": "markdown",
   "id": "5c2b84cc",
   "metadata": {},
   "source": [
    "### Bu aşamada yapılması gereken, belirli sınırda olan filmleri değerlendirme aşamasına almamalıyız. Bunun sebebi, bu işi yapan bir şirketin az rate alan bir film ile işi olmayacaktır."
   ]
  },
  {
   "cell_type": "markdown",
   "id": "6b559a29",
   "metadata": {},
   "source": [
    "#### 10k'dan düşük rate alan filmleri bir değişkene atayalım."
   ]
  },
  {
   "cell_type": "code",
   "execution_count": 10,
   "id": "ec48a126",
   "metadata": {},
   "outputs": [
    {
     "name": "stdout",
     "output_type": "stream",
     "text": [
      "Index(['Ronin (1998)', 'My Best Friend's Wedding (1997)',\n",
      "       'Flintstones, The (1994)', 'Copycat (1995)', 'Space Jam (1996)',\n",
      "       'Harry Potter and the Goblet of Fire (2005)', 'Junior (1994)',\n",
      "       'Perfect Storm, The (2000)', 'Swingers (1996)',\n",
      "       'Fatal Attraction (1987)',\n",
      "       ...\n",
      "       'Satan's Sword (Daibosatsu tôge) (1960)',\n",
      "       'Blind Massage (Tui na) (2014)', 'Prêt à tout (2014)',\n",
      "       'Ditchdigger's Daughters, The (1997)', 'A.K. (1985)',\n",
      "       'Rapture (Arrebato) (1980)',\n",
      "       'Education of Mohammad Hussein, The (2013)', 'Satanas (2007)',\n",
      "       'Psychosis (2010)', 'Innocence (2014)'],\n",
      "      dtype='object', name='title', length=26800)\n"
     ]
    }
   ],
   "source": [
    "comment_counts = pd.DataFrame(df[\"title\"].value_counts())\n",
    "rare_movies = comment_counts[comment_counts[\"count\"] <= 10000].index\n",
    "print(rare_movies)"
   ]
  },
  {
   "cell_type": "markdown",
   "id": "43a04d21",
   "metadata": {},
   "source": [
    "#### 10k'dan düşük rate alan filmleri df içerisinden çıkartılacaktır."
   ]
  },
  {
   "cell_type": "code",
   "execution_count": 12,
   "id": "6fc05ec0",
   "metadata": {},
   "outputs": [],
   "source": [
    "common_movies = df[~df[\"title\"].isin(rare_movies)]"
   ]
  },
  {
   "cell_type": "code",
   "execution_count": 19,
   "id": "165877eb",
   "metadata": {},
   "outputs": [
    {
     "name": "stdout",
     "output_type": "stream",
     "text": [
      "Orijinal Veri Seti : (20000797, 6), >10k Veri Seti: (9050403, 6)\n",
      "Orijinal Film Sayısı : 27262, >10k Film Sayısı: 462\n"
     ]
    }
   ],
   "source": [
    "print(\"Orijinal Veri Seti : {}, >10k Veri Seti: {}\".format(df.shape, common_movies.shape))\n",
    "print(\"Orijinal Film Sayısı : {}, >10k Film Sayısı: {}\".format(df[\"title\"].nunique(),\n",
    "                                                               common_movies[\"title\"].nunique()))\n",
    "\n",
    "# 10k'dan düşük rate'leri çıkarttığımızdan dolayı, film sayısında büyük bir azalış meydana gelmiştir"
   ]
  },
  {
   "cell_type": "markdown",
   "id": "998ff403",
   "metadata": {},
   "source": [
    "## User Movie df oluşturulması"
   ]
  },
  {
   "cell_type": "code",
   "execution_count": 20,
   "id": "16be4ddb",
   "metadata": {},
   "outputs": [],
   "source": [
    "user_movie_df = common_movies.pivot_table(index=[\"userId\"], columns=[\"title\"], values=\"rating\")"
   ]
  },
  {
   "cell_type": "markdown",
   "id": "4cdac615",
   "metadata": {},
   "source": [
    "#### Veri seti içerisinden bir film seçelim ve o filme uygun öneriler yapılmasını isteyelim."
   ]
  },
  {
   "cell_type": "code",
   "execution_count": 24,
   "id": "3611affc",
   "metadata": {},
   "outputs": [
    {
     "data": {
      "text/plain": [
       "title\n",
       "Matrix, The (1999)                                           1.000000\n",
       "Matrix Reloaded, The (2003)                                  0.516906\n",
       "Matrix Revolutions, The (2003)                               0.449588\n",
       "Blade (1998)                                                 0.334493\n",
       "Terminator 2: Judgment Day (1991)                            0.333882\n",
       "Minority Report (2002)                                       0.332434\n",
       "Mission: Impossible (1996)                                   0.320815\n",
       "Lord of the Rings: The Fellowship of the Ring, The (2001)    0.318726\n",
       "Lord of the Rings: The Two Towers, The (2002)                0.318086\n",
       "Lord of the Rings: The Return of the King, The (2003)        0.314241\n",
       "dtype: float64"
      ]
     },
     "execution_count": 24,
     "metadata": {},
     "output_type": "execute_result"
    }
   ],
   "source": [
    "movie_name = \"Matrix, The (1999)\"\n",
    "movie_name = user_movie_df[movie_name]\n",
    "user_movie_df.corrwith(movie_name).sort_values(ascending=False).head(10)"
   ]
  },
  {
   "cell_type": "markdown",
   "id": "ab6bd8cf",
   "metadata": {},
   "source": [
    "#### Rastgele bir film seçmek istiyorsak eğer,"
   ]
  },
  {
   "cell_type": "code",
   "execution_count": 25,
   "id": "88ca6583",
   "metadata": {},
   "outputs": [
    {
     "data": {
      "text/plain": [
       "title\n",
       "Shawshank Redemption, The (1994)    1.000000\n",
       "Green Mile, The (1999)              0.388181\n",
       "Good Will Hunting (1997)            0.359274\n",
       "Schindler's List (1993)             0.338183\n",
       "Forrest Gump (1994)                 0.333162\n",
       "Rain Man (1988)                     0.331133\n",
       "American History X (1998)           0.324650\n",
       "Dead Poets Society (1989)           0.324484\n",
       "Braveheart (1995)                   0.317795\n",
       "Few Good Men, A (1992)              0.315037\n",
       "dtype: float64"
      ]
     },
     "execution_count": 25,
     "metadata": {},
     "output_type": "execute_result"
    }
   ],
   "source": [
    "movie_name = pd.Series(user_movie_df.columns).sample(1).values[0]\n",
    "movie_name = user_movie_df[movie_name]\n",
    "user_movie_df.corrwith(movie_name).sort_values(ascending=False).head(10)"
   ]
  },
  {
   "cell_type": "code",
   "execution_count": null,
   "id": "d358555c",
   "metadata": {},
   "outputs": [],
   "source": []
  }
 ],
 "metadata": {
  "kernelspec": {
   "display_name": "Python 3 (ipykernel)",
   "language": "python",
   "name": "python3"
  },
  "language_info": {
   "codemirror_mode": {
    "name": "ipython",
    "version": 3
   },
   "file_extension": ".py",
   "mimetype": "text/x-python",
   "name": "python",
   "nbconvert_exporter": "python",
   "pygments_lexer": "ipython3",
   "version": "3.11.5"
  }
 },
 "nbformat": 4,
 "nbformat_minor": 5
}
