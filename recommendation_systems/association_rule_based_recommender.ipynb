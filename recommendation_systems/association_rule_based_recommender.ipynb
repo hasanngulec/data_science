{
 "cells": [
  {
   "cell_type": "markdown",
   "id": "02dc8b6a",
   "metadata": {},
   "source": [
    "# Association Rule Based Recommender System"
   ]
  },
  {
   "cell_type": "markdown",
   "id": "73d41f90",
   "metadata": {},
   "source": [
    "## İş Problemi\n",
    "\n",
    "* Türkiye’nin en büyük online hizmet platformu olan Armut, hizmet verenler ile hizmet almak isteyenleri buluşturmaktadır. Bilgisayarın veya akıllı telefonunun üzerinden birkaç dokunuşla temizlik, tadilat, nakliyat gibi hizmetlere kolayca ulaşılmasını sağlamaktadır. Hizmet alan kullanıcıları ve bu kullanıcıların almış oldukları servis ve kategorileri içeren veri setini kullanarak Association Rule Learning ile ürün tavsiye sistemi oluşturulmak istenmektedir."
   ]
  },
  {
   "cell_type": "markdown",
   "id": "f34b9516",
   "metadata": {},
   "source": [
    "## Veri Setinin Hikayesi\n",
    "* Veri seti müşterilerin aldıkları servislerden ve bu servislerin kategorilerinden oluşmaktadır. Alınan her hizmetin tarih ve saat bilgisini içermektedir."
   ]
  },
  {
   "cell_type": "markdown",
   "id": "2b459564",
   "metadata": {},
   "source": [
    "## Değişkenler\n",
    "* UserId: Müşteri numarası\n",
    "* ServiceId: Her kategoriye ait anonimleştirilmiş servislerdir. (Örnek : Temizlik kategorisi altında koltuk yıkama servisi)\n",
    "* Bir ServiceId farklı kategoriler altında bulanabilir ve farklı kategoriler altında farklı servisleri ifade eder.(Örnek: CategoryId’si 7 ServiceId’si 4 olan hizmet petek temizliği iken CategoryId’si 2 ServiceId’si 4 olan hizmet mobilya montaj)\n",
    "* CategoryId: Anonimleştirilmiş kategorilerdir. (Örnek : Temizlik, nakliyat, tadilat kategorisi)\n",
    "* CreateDate: Hizmetin satın alındığı tarih"
   ]
  },
  {
   "cell_type": "code",
   "execution_count": 1,
   "id": "8b8a10b8",
   "metadata": {},
   "outputs": [],
   "source": [
    "import pandas as pd\n",
    "from mlxtend.frequent_patterns import apriori, association_rules"
   ]
  },
  {
   "cell_type": "code",
   "execution_count": 4,
   "id": "833a0fda",
   "metadata": {},
   "outputs": [
    {
     "name": "stdout",
     "output_type": "stream",
     "text": [
      "   UserId  ServiceId  CategoryId           CreateDate\n",
      "0   25446          4           5  2017-08-06 16:11:00\n",
      "1   22948         48           5  2017-08-06 16:12:00\n",
      "2   10618          0           8  2017-08-06 16:13:00\n",
      "3    7256          9           4  2017-08-06 16:14:00\n",
      "4   25446         48           5  2017-08-06 16:16:00\n",
      "UserId         int64\n",
      "ServiceId      int64\n",
      "CategoryId     int64\n",
      "CreateDate    object\n",
      "dtype: object\n"
     ]
    }
   ],
   "source": [
    "data = pd.read_csv(\"armut_data.csv\")\n",
    "print(data.head())\n",
    "print(data.dtypes)"
   ]
  },
  {
   "cell_type": "markdown",
   "id": "c6fe98a9",
   "metadata": {},
   "source": [
    "### Adım 1) ServiceID, her bir CategoryID özelinde farklı bir hizmeti temsil etmektedir. Bu iki değişkeni birleştirerek yeni bir değişken oluşturup dataframe'e ekleyelim. Bu sayede bir ARL recommender sistem oluşturmaya başlayabiliriz."
   ]
  },
  {
   "cell_type": "code",
   "execution_count": 5,
   "id": "d8cd432e",
   "metadata": {},
   "outputs": [
    {
     "data": {
      "text/html": [
       "<div>\n",
       "<style scoped>\n",
       "    .dataframe tbody tr th:only-of-type {\n",
       "        vertical-align: middle;\n",
       "    }\n",
       "\n",
       "    .dataframe tbody tr th {\n",
       "        vertical-align: top;\n",
       "    }\n",
       "\n",
       "    .dataframe thead th {\n",
       "        text-align: right;\n",
       "    }\n",
       "</style>\n",
       "<table border=\"1\" class=\"dataframe\">\n",
       "  <thead>\n",
       "    <tr style=\"text-align: right;\">\n",
       "      <th></th>\n",
       "      <th>UserId</th>\n",
       "      <th>ServiceId</th>\n",
       "      <th>CategoryId</th>\n",
       "      <th>CreateDate</th>\n",
       "      <th>Hizmet</th>\n",
       "    </tr>\n",
       "  </thead>\n",
       "  <tbody>\n",
       "    <tr>\n",
       "      <th>0</th>\n",
       "      <td>25446</td>\n",
       "      <td>4</td>\n",
       "      <td>5</td>\n",
       "      <td>2017-08-06 16:11:00</td>\n",
       "      <td>4_5</td>\n",
       "    </tr>\n",
       "    <tr>\n",
       "      <th>1</th>\n",
       "      <td>22948</td>\n",
       "      <td>48</td>\n",
       "      <td>5</td>\n",
       "      <td>2017-08-06 16:12:00</td>\n",
       "      <td>48_5</td>\n",
       "    </tr>\n",
       "    <tr>\n",
       "      <th>2</th>\n",
       "      <td>10618</td>\n",
       "      <td>0</td>\n",
       "      <td>8</td>\n",
       "      <td>2017-08-06 16:13:00</td>\n",
       "      <td>0_8</td>\n",
       "    </tr>\n",
       "    <tr>\n",
       "      <th>3</th>\n",
       "      <td>7256</td>\n",
       "      <td>9</td>\n",
       "      <td>4</td>\n",
       "      <td>2017-08-06 16:14:00</td>\n",
       "      <td>9_4</td>\n",
       "    </tr>\n",
       "    <tr>\n",
       "      <th>4</th>\n",
       "      <td>25446</td>\n",
       "      <td>48</td>\n",
       "      <td>5</td>\n",
       "      <td>2017-08-06 16:16:00</td>\n",
       "      <td>48_5</td>\n",
       "    </tr>\n",
       "  </tbody>\n",
       "</table>\n",
       "</div>"
      ],
      "text/plain": [
       "   UserId  ServiceId  CategoryId           CreateDate Hizmet\n",
       "0   25446          4           5  2017-08-06 16:11:00    4_5\n",
       "1   22948         48           5  2017-08-06 16:12:00   48_5\n",
       "2   10618          0           8  2017-08-06 16:13:00    0_8\n",
       "3    7256          9           4  2017-08-06 16:14:00    9_4\n",
       "4   25446         48           5  2017-08-06 16:16:00   48_5"
      ]
     },
     "execution_count": 5,
     "metadata": {},
     "output_type": "execute_result"
    }
   ],
   "source": [
    "data[\"Hizmet\"] = (data[\"ServiceId\"].astype(str)) + \"_\" + (data[\"CategoryId\"].astype(str))\n",
    "data.head()"
   ]
  },
  {
   "cell_type": "markdown",
   "id": "9b126769",
   "metadata": {},
   "source": [
    "### Adım 2) Bir sepet oluşturalım. Sepet, her bir müşterinin aylık aldığı hizmetlerdir. Sepet içerisinede hizmetin alındığı ay ve yılı bu yüzden girmemiz gerekiyor."
   ]
  },
  {
   "cell_type": "code",
   "execution_count": 6,
   "id": "29449383",
   "metadata": {},
   "outputs": [
    {
     "data": {
      "text/html": [
       "<div>\n",
       "<style scoped>\n",
       "    .dataframe tbody tr th:only-of-type {\n",
       "        vertical-align: middle;\n",
       "    }\n",
       "\n",
       "    .dataframe tbody tr th {\n",
       "        vertical-align: top;\n",
       "    }\n",
       "\n",
       "    .dataframe thead th {\n",
       "        text-align: right;\n",
       "    }\n",
       "</style>\n",
       "<table border=\"1\" class=\"dataframe\">\n",
       "  <thead>\n",
       "    <tr style=\"text-align: right;\">\n",
       "      <th></th>\n",
       "      <th>UserId</th>\n",
       "      <th>ServiceId</th>\n",
       "      <th>CategoryId</th>\n",
       "      <th>CreateDate</th>\n",
       "      <th>Hizmet</th>\n",
       "      <th>New_Date</th>\n",
       "      <th>SepetId</th>\n",
       "    </tr>\n",
       "  </thead>\n",
       "  <tbody>\n",
       "    <tr>\n",
       "      <th>0</th>\n",
       "      <td>25446</td>\n",
       "      <td>4</td>\n",
       "      <td>5</td>\n",
       "      <td>2017-08-06 16:11:00</td>\n",
       "      <td>4_5</td>\n",
       "      <td>08-2017</td>\n",
       "      <td>25446_08-2017</td>\n",
       "    </tr>\n",
       "    <tr>\n",
       "      <th>1</th>\n",
       "      <td>22948</td>\n",
       "      <td>48</td>\n",
       "      <td>5</td>\n",
       "      <td>2017-08-06 16:12:00</td>\n",
       "      <td>48_5</td>\n",
       "      <td>08-2017</td>\n",
       "      <td>22948_08-2017</td>\n",
       "    </tr>\n",
       "    <tr>\n",
       "      <th>2</th>\n",
       "      <td>10618</td>\n",
       "      <td>0</td>\n",
       "      <td>8</td>\n",
       "      <td>2017-08-06 16:13:00</td>\n",
       "      <td>0_8</td>\n",
       "      <td>08-2017</td>\n",
       "      <td>10618_08-2017</td>\n",
       "    </tr>\n",
       "    <tr>\n",
       "      <th>3</th>\n",
       "      <td>7256</td>\n",
       "      <td>9</td>\n",
       "      <td>4</td>\n",
       "      <td>2017-08-06 16:14:00</td>\n",
       "      <td>9_4</td>\n",
       "      <td>08-2017</td>\n",
       "      <td>7256_08-2017</td>\n",
       "    </tr>\n",
       "    <tr>\n",
       "      <th>4</th>\n",
       "      <td>25446</td>\n",
       "      <td>48</td>\n",
       "      <td>5</td>\n",
       "      <td>2017-08-06 16:16:00</td>\n",
       "      <td>48_5</td>\n",
       "      <td>08-2017</td>\n",
       "      <td>25446_08-2017</td>\n",
       "    </tr>\n",
       "  </tbody>\n",
       "</table>\n",
       "</div>"
      ],
      "text/plain": [
       "   UserId  ServiceId  CategoryId          CreateDate Hizmet New_Date  \\\n",
       "0   25446          4           5 2017-08-06 16:11:00    4_5  08-2017   \n",
       "1   22948         48           5 2017-08-06 16:12:00   48_5  08-2017   \n",
       "2   10618          0           8 2017-08-06 16:13:00    0_8  08-2017   \n",
       "3    7256          9           4 2017-08-06 16:14:00    9_4  08-2017   \n",
       "4   25446         48           5 2017-08-06 16:16:00   48_5  08-2017   \n",
       "\n",
       "         SepetId  \n",
       "0  25446_08-2017  \n",
       "1  22948_08-2017  \n",
       "2  10618_08-2017  \n",
       "3   7256_08-2017  \n",
       "4  25446_08-2017  "
      ]
     },
     "execution_count": 6,
     "metadata": {},
     "output_type": "execute_result"
    }
   ],
   "source": [
    "data[\"CreateDate\"] = pd.to_datetime(data[\"CreateDate\"].astype(str), format = \"%Y-%m-%d %H:%M:%S\")\n",
    "data[\"New_Date\"] = data[\"CreateDate\"].dt.strftime(\"%m-%Y\")\n",
    "data[\"SepetId\"] = data[\"UserId\"].astype(str) + \"_\" + data[\"New_Date\"]\n",
    "data.head()"
   ]
  },
  {
   "cell_type": "markdown",
   "id": "2492b871",
   "metadata": {},
   "source": [
    "### Adım 3) Birliktelik Kurallarını oluşturmadan önce, Sepet, hizmet pivot table'ı oluşturalım."
   ]
  },
  {
   "cell_type": "code",
   "execution_count": 7,
   "id": "5f2d1ed8",
   "metadata": {
    "scrolled": false
   },
   "outputs": [
    {
     "name": "stderr",
     "output_type": "stream",
     "text": [
      "/var/folders/l2/85cfp5d92ybfdr50zh9xvqsr0000gn/T/ipykernel_93585/3987805613.py:1: FutureWarning: DataFrame.applymap has been deprecated. Use DataFrame.map instead.\n",
      "  data_pt= data.groupby([\"SepetId\",\"Hizmet\"])[\"Hizmet\"].count().unstack().fillna(0).applymap(lambda x: 1 if x > 0 else 0)\n"
     ]
    },
    {
     "name": "stdout",
     "output_type": "stream",
     "text": [
      "Hizmet         0_8  10_9  11_11  12_7  13_11  14_7  15_1  16_8  17_5  18_4  \\\n",
      "SepetId                                                                      \n",
      "0_01-2018        0     0      0     0      0     0     0     0     0     0   \n",
      "0_04-2018        0     0      0     0      0     1     0     0     0     0   \n",
      "0_08-2017        0     0      0     0      0     0     0     0     0     0   \n",
      "0_09-2017        0     0      0     0      0     0     0     0     0     0   \n",
      "10000_03-2018    0     0      0     0      0     0     0     0     0     0   \n",
      "...            ...   ...    ...   ...    ...   ...   ...   ...   ...   ...   \n",
      "99_01-2018       1     0      0     0      0     0     0     0     0     0   \n",
      "99_02-2018       1     0      0     0      0     0     0     0     0     0   \n",
      "99_12-2017       1     0      0     0      0     0     0     0     0     0   \n",
      "9_03-2018        0     0      0     0      0     0     0     0     0     0   \n",
      "9_04-2018        0     0      0     0      0     0     0     0     0     0   \n",
      "\n",
      "Hizmet         ...  46_4  47_7  48_5  49_1  4_5  5_11  6_7  7_3  8_5  9_4  \n",
      "SepetId        ...                                                         \n",
      "0_01-2018      ...     0     0     0     0    0     0    0    1    0    0  \n",
      "0_04-2018      ...     0     0     0     0    0     0    0    0    0    0  \n",
      "0_08-2017      ...     1     0     1     0    0     0    0    0    0    0  \n",
      "0_09-2017      ...     0     0     1     0    1     0    0    0    0    0  \n",
      "10000_03-2018  ...     0     0     0     0    0     0    0    0    0    0  \n",
      "...            ...   ...   ...   ...   ...  ...   ...  ...  ...  ...  ...  \n",
      "99_01-2018     ...     0     0     0     0    0     0    0    0    0    0  \n",
      "99_02-2018     ...     0     0     0     0    0     0    0    0    0    0  \n",
      "99_12-2017     ...     0     0     0     0    0     0    0    0    0    0  \n",
      "9_03-2018      ...     0     0     0     0    0     0    0    0    0    0  \n",
      "9_04-2018      ...     0     0     0     0    0     0    0    0    0    0  \n",
      "\n",
      "[71220 rows x 50 columns]\n"
     ]
    }
   ],
   "source": [
    "data_pt= data.groupby([\"SepetId\",\"Hizmet\"])[\"Hizmet\"].count().unstack().fillna(0).applymap(lambda x: 1 if x > 0 else 0)\n",
    "print(data_pt)"
   ]
  },
  {
   "cell_type": "markdown",
   "id": "8ba1ef6e",
   "metadata": {},
   "source": [
    "### Adım 4) Birliktelik Kurallarını oluşturalım"
   ]
  },
  {
   "cell_type": "code",
   "execution_count": 12,
   "id": "b30633f6",
   "metadata": {
    "scrolled": true
   },
   "outputs": [
    {
     "name": "stderr",
     "output_type": "stream",
     "text": [
      "/Users/hasangulec/anaconda3/lib/python3.11/site-packages/mlxtend/frequent_patterns/fpcommon.py:161: DeprecationWarning: DataFrames with non-bool types result in worse computationalperformance and their support might be discontinued in the future.Please use a DataFrame with bool type\n",
      "  warnings.warn(\n"
     ]
    },
    {
     "name": "stdout",
     "output_type": "stream",
     "text": [
      "   antecedents consequents  antecedent support  consequent support   support  \\\n",
      "0        (2_0)     (13_11)            0.130286            0.056627  0.012819   \n",
      "1      (13_11)       (2_0)            0.056627            0.130286  0.012819   \n",
      "2        (2_0)      (15_1)            0.130286            0.120963  0.033951   \n",
      "3       (15_1)       (2_0)            0.120963            0.130286  0.033951   \n",
      "4       (33_4)      (15_1)            0.027310            0.120963  0.011233   \n",
      "5       (15_1)      (33_4)            0.120963            0.027310  0.011233   \n",
      "6       (38_4)      (15_1)            0.066568            0.120963  0.011177   \n",
      "7       (15_1)      (38_4)            0.120963            0.066568  0.011177   \n",
      "8       (49_1)      (15_1)            0.067762            0.120963  0.010011   \n",
      "9       (15_1)      (49_1)            0.120963            0.067762  0.010011   \n",
      "10      (25_0)      (22_0)            0.042895            0.047515  0.011120   \n",
      "11      (22_0)      (25_0)            0.047515            0.042895  0.011120   \n",
      "12       (2_0)      (22_0)            0.130286            0.047515  0.016568   \n",
      "13      (22_0)       (2_0)            0.047515            0.130286  0.016568   \n",
      "14      (25_0)       (2_0)            0.042895            0.130286  0.013437   \n",
      "15       (2_0)      (25_0)            0.130286            0.042895  0.013437   \n",
      "16       (2_0)      (38_4)            0.130286            0.066568  0.011191   \n",
      "17      (38_4)       (2_0)            0.066568            0.130286  0.011191   \n",
      "18       (9_4)      (38_4)            0.041393            0.066568  0.010067   \n",
      "19      (38_4)       (9_4)            0.066568            0.041393  0.010067   \n",
      "\n",
      "    confidence      lift  representativity  leverage  conviction  \\\n",
      "0     0.098394  1.737574               1.0  0.005442    1.046325   \n",
      "1     0.226382  1.737574               1.0  0.005442    1.124216   \n",
      "2     0.260588  2.154278               1.0  0.018191    1.188833   \n",
      "3     0.280673  2.154278               1.0  0.018191    1.209066   \n",
      "4     0.411311  3.400299               1.0  0.007929    1.493211   \n",
      "5     0.092861  3.400299               1.0  0.007929    1.072262   \n",
      "6     0.167897  1.388001               1.0  0.003124    1.056404   \n",
      "7     0.092397  1.388001               1.0  0.003124    1.028458   \n",
      "8     0.147741  1.221375               1.0  0.001815    1.031420   \n",
      "9     0.082763  1.221375               1.0  0.001815    1.016354   \n",
      "10    0.259247  5.456141               1.0  0.009082    1.285834   \n",
      "11    0.234043  5.456141               1.0  0.009082    1.249553   \n",
      "12    0.127169  2.676409               1.0  0.010378    1.091260   \n",
      "13    0.348700  2.676409               1.0  0.010378    1.335350   \n",
      "14    0.313257  2.404371               1.0  0.007849    1.266432   \n",
      "15    0.103136  2.404371               1.0  0.007849    1.067168   \n",
      "16    0.085893  1.290295               1.0  0.002518    1.021140   \n",
      "17    0.168108  1.290295               1.0  0.002518    1.045465   \n",
      "18    0.243216  3.653623               1.0  0.007312    1.233418   \n",
      "19    0.151234  3.653623               1.0  0.007312    1.129413   \n",
      "\n",
      "    zhangs_metric   jaccard  certainty  kulczynski  \n",
      "0        0.488074  0.073635   0.044274    0.162388  \n",
      "1        0.449965  0.073635   0.110491    0.162388  \n",
      "2        0.616073  0.156242   0.158839    0.270631  \n",
      "3        0.609539  0.156242   0.172915    0.270631  \n",
      "4        0.725728  0.081967   0.330302    0.252086  \n",
      "5        0.803047  0.081967   0.067392    0.252086  \n",
      "6        0.299475  0.063376   0.053392    0.130147  \n",
      "7        0.318007  0.063376   0.027671    0.130147  \n",
      "8        0.194425  0.056018   0.030463    0.115252  \n",
      "9        0.206192  0.056018   0.016091    0.115252  \n",
      "10       0.853324  0.140251   0.222295    0.246645  \n",
      "11       0.857462  0.140251   0.199714    0.246645  \n",
      "12       0.720197  0.102761   0.083628    0.237934  \n",
      "13       0.657611  0.102761   0.251132    0.237934  \n",
      "14       0.610268  0.084117   0.210380    0.208197  \n",
      "15       0.671590  0.084117   0.062941    0.208197  \n",
      "16       0.258687  0.060274   0.020703    0.127000  \n",
      "17       0.241029  0.060274   0.043487    0.127000  \n",
      "18       0.757661  0.102840   0.189245    0.197225  \n",
      "19       0.778096  0.102840   0.114584    0.197225  \n"
     ]
    }
   ],
   "source": [
    "from mlxtend.frequent_patterns import apriori, association_rules\n",
    "\n",
    "frequent_itemsets = apriori(data_pt,min_support=0.01,use_colnames=True)\n",
    "rules = association_rules(frequent_itemsets,metric=\"support\",min_threshold=0.01)\n",
    "print(rules)"
   ]
  },
  {
   "cell_type": "markdown",
   "id": "445541c7",
   "metadata": {},
   "source": [
    "* antecedents: x ürün, \n",
    "* consequents: y ürün, \n",
    "* antecedent support: x ürünün tek basına gözlenme olasılığı, \n",
    "* consequent support: y ürünün tek basına gözlenme olasılığı\n",
    "* support : ikisinin birlikte gözlenme olasılığı, \n",
    "* confidince : x satın alındığında y nin satın alınma olasılığı\n",
    "* lift : x satın alındığında y'nin satın alınma olasılığının lift kadar artar.\n"
   ]
  },
  {
   "cell_type": "markdown",
   "id": "45e3d795",
   "metadata": {},
   "source": [
    "### Adım 5) En son 2_0 hizmetini alan bir kullanıcıya hizmet önerisinde bulununuz."
   ]
  },
  {
   "cell_type": "code",
   "execution_count": 11,
   "id": "03ab2241",
   "metadata": {},
   "outputs": [
    {
     "data": {
      "text/plain": [
       "['15_1', '22_0']"
      ]
     },
     "execution_count": 11,
     "metadata": {},
     "output_type": "execute_result"
    }
   ],
   "source": [
    "def arl_recommender(rules_df, product_id, rec_count=1):\n",
    "    sorted_rules = rules_df.sort_values(\"lift\", ascending = False)\n",
    "    recommendation_list = []\n",
    "    for i, product in sorted_rules[\"antecedents\"].items():\n",
    "        for j in list(product):\n",
    "            if j == product_id:\n",
    "                recommendation_list.append(list(sorted_rules.iloc[i][\"consequents\"]))\n",
    "    recommendation_list = list({item for item_list in recommendation_list for item in item_list})\n",
    "    return recommendation_list[:rec_count]\n",
    "\n",
    "arl_recommender(rules, \"2_0\",2)"
   ]
  },
  {
   "cell_type": "code",
   "execution_count": null,
   "id": "53067933",
   "metadata": {},
   "outputs": [],
   "source": []
  },
  {
   "cell_type": "code",
   "execution_count": null,
   "id": "259cc4bb",
   "metadata": {},
   "outputs": [],
   "source": []
  }
 ],
 "metadata": {
  "kernelspec": {
   "display_name": "Python 3 (ipykernel)",
   "language": "python",
   "name": "python3"
  },
  "language_info": {
   "codemirror_mode": {
    "name": "ipython",
    "version": 3
   },
   "file_extension": ".py",
   "mimetype": "text/x-python",
   "name": "python",
   "nbconvert_exporter": "python",
   "pygments_lexer": "ipython3",
   "version": "3.11.5"
  }
 },
 "nbformat": 4,
 "nbformat_minor": 5
}
