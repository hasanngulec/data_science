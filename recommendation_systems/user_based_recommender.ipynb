{
 "cells": [
  {
   "cell_type": "markdown",
   "id": "b72ea4af",
   "metadata": {},
   "source": [
    "## Adım 1 : Veri setinin hazırlanması"
   ]
  },
  {
   "cell_type": "markdown",
   "id": "ff612d29",
   "metadata": {},
   "source": [
    "* Bir movie veri seti kullanacağız. Bu veri seti üzerinden bir pivot table oluşturulacaktır. Bu pivot tablosunun değerlerinde \"rating\",  indexinde \"userId\", sütunda ise \"title\" yer alacaktır."
   ]
  },
  {
   "cell_type": "code",
   "execution_count": 1,
   "id": "a883c8d6",
   "metadata": {},
   "outputs": [],
   "source": [
    "import pandas as pd"
   ]
  },
  {
   "cell_type": "code",
   "execution_count": 2,
   "id": "71e11770",
   "metadata": {
    "scrolled": false
   },
   "outputs": [
    {
     "name": "stdout",
     "output_type": "stream",
     "text": [
      "   movieId             title                                       genres  \\\n",
      "0        1  Toy Story (1995)  Adventure|Animation|Children|Comedy|Fantasy   \n",
      "1        1  Toy Story (1995)  Adventure|Animation|Children|Comedy|Fantasy   \n",
      "2        1  Toy Story (1995)  Adventure|Animation|Children|Comedy|Fantasy   \n",
      "3        1  Toy Story (1995)  Adventure|Animation|Children|Comedy|Fantasy   \n",
      "4        1  Toy Story (1995)  Adventure|Animation|Children|Comedy|Fantasy   \n",
      "\n",
      "   userId  rating            timestamp  \n",
      "0     3.0     4.0  1999-12-11 13:36:47  \n",
      "1     6.0     5.0  1997-03-13 17:50:52  \n",
      "2     8.0     4.0  1996-06-05 13:37:51  \n",
      "3    10.0     4.0  1999-11-25 02:44:47  \n",
      "4    11.0     4.5  2009-01-02 01:13:41  \n"
     ]
    }
   ],
   "source": [
    "movie = pd.read_csv(\"movie.csv\")\n",
    "rating = pd.read_csv(\"rating.csv\")\n",
    "df = movie.merge(rating, how=\"left\", on=\"movieId\")\n",
    "print(df.head())"
   ]
  },
  {
   "cell_type": "code",
   "execution_count": 8,
   "id": "9facde62",
   "metadata": {},
   "outputs": [
    {
     "name": "stdout",
     "output_type": "stream",
     "text": [
      "                                           count\n",
      "title                                           \n",
      "Pulp Fiction (1994)                        67310\n",
      "Forrest Gump (1994)                        66172\n",
      "Shawshank Redemption, The (1994)           63366\n",
      "Silence of the Lambs, The (1991)           63299\n",
      "Jurassic Park (1993)                       59715\n",
      "...                                          ...\n",
      "Rapture (Arrebato) (1980)                      1\n",
      "Education of Mohammad Hussein, The (2013)      1\n",
      "Satanas (2007)                                 1\n",
      "Psychosis (2010)                               1\n",
      "Innocence (2014)                               1\n",
      "\n",
      "[27262 rows x 1 columns]\n"
     ]
    }
   ],
   "source": [
    "comment_counts = pd.DataFrame(df[\"title\"].value_counts())\n",
    "print(comment_counts) # Filmlerin oylanma sayıları"
   ]
  },
  {
   "cell_type": "code",
   "execution_count": 14,
   "id": "d3e2ebe9",
   "metadata": {},
   "outputs": [
    {
     "name": "stdout",
     "output_type": "stream",
     "text": [
      "title     10 Things I Hate About You (1999)  12 Angry Men (1957)  \\\n",
      "userId                                                             \n",
      "1.0                                     NaN                  NaN   \n",
      "2.0                                     NaN                  NaN   \n",
      "3.0                                     NaN                  NaN   \n",
      "4.0                                     NaN                  NaN   \n",
      "5.0                                     NaN                  NaN   \n",
      "...                                     ...                  ...   \n",
      "138489.0                                NaN                  4.5   \n",
      "138490.0                                NaN                  NaN   \n",
      "138491.0                                NaN                  NaN   \n",
      "138492.0                                NaN                  NaN   \n",
      "138493.0                                NaN                  4.0   \n",
      "\n",
      "title     2001: A Space Odyssey (1968)  28 Days Later (2002)  300 (2007)  \\\n",
      "userId                                                                     \n",
      "1.0                                3.5                   3.5         NaN   \n",
      "2.0                                5.0                   NaN         NaN   \n",
      "3.0                                5.0                   NaN         NaN   \n",
      "4.0                                NaN                   NaN         NaN   \n",
      "5.0                                NaN                   NaN         NaN   \n",
      "...                                ...                   ...         ...   \n",
      "138489.0                           NaN                   NaN         NaN   \n",
      "138490.0                           NaN                   NaN         NaN   \n",
      "138491.0                           NaN                   NaN         NaN   \n",
      "138492.0                           NaN                   NaN         NaN   \n",
      "138493.0                           NaN                   NaN         4.5   \n",
      "\n",
      "title     A.I. Artificial Intelligence (2001)  Abyss, The (1989)  \\\n",
      "userId                                                             \n",
      "1.0                                       NaN                NaN   \n",
      "2.0                                       NaN                NaN   \n",
      "3.0                                       NaN                3.0   \n",
      "4.0                                       NaN                NaN   \n",
      "5.0                                       NaN                NaN   \n",
      "...                                       ...                ...   \n",
      "138489.0                                  NaN                NaN   \n",
      "138490.0                                  NaN                NaN   \n",
      "138491.0                                  NaN                NaN   \n",
      "138492.0                                  NaN                NaN   \n",
      "138493.0                                  NaN                NaN   \n",
      "\n",
      "title     Ace Ventura: Pet Detective (1994)  \\\n",
      "userId                                        \n",
      "1.0                                     NaN   \n",
      "2.0                                     NaN   \n",
      "3.0                                     NaN   \n",
      "4.0                                     NaN   \n",
      "5.0                                     NaN   \n",
      "...                                     ...   \n",
      "138489.0                                NaN   \n",
      "138490.0                                NaN   \n",
      "138491.0                                NaN   \n",
      "138492.0                                NaN   \n",
      "138493.0                                4.0   \n",
      "\n",
      "title     Ace Ventura: When Nature Calls (1995)  Addams Family Values (1993)  \\\n",
      "userId                                                                         \n",
      "1.0                                         NaN                          NaN   \n",
      "2.0                                         NaN                          NaN   \n",
      "3.0                                         NaN                          NaN   \n",
      "4.0                                         3.0                          NaN   \n",
      "5.0                                         NaN                          NaN   \n",
      "...                                         ...                          ...   \n",
      "138489.0                                    NaN                          NaN   \n",
      "138490.0                                    NaN                          NaN   \n",
      "138491.0                                    NaN                          NaN   \n",
      "138492.0                                    NaN                          NaN   \n",
      "138493.0                                    4.0                          3.0   \n",
      "\n",
      "title     ...  Wild Wild West (1999)  \\\n",
      "userId    ...                          \n",
      "1.0       ...                    NaN   \n",
      "2.0       ...                    NaN   \n",
      "3.0       ...                    NaN   \n",
      "4.0       ...                    NaN   \n",
      "5.0       ...                    NaN   \n",
      "...       ...                    ...   \n",
      "138489.0  ...                    NaN   \n",
      "138490.0  ...                    NaN   \n",
      "138491.0  ...                    NaN   \n",
      "138492.0  ...                    NaN   \n",
      "138493.0  ...                    NaN   \n",
      "\n",
      "title     William Shakespeare's Romeo + Juliet (1996)  \\\n",
      "userId                                                  \n",
      "1.0                                               NaN   \n",
      "2.0                                               NaN   \n",
      "3.0                                               NaN   \n",
      "4.0                                               NaN   \n",
      "5.0                                               NaN   \n",
      "...                                               ...   \n",
      "138489.0                                          NaN   \n",
      "138490.0                                          NaN   \n",
      "138491.0                                          NaN   \n",
      "138492.0                                          NaN   \n",
      "138493.0                                          NaN   \n",
      "\n",
      "title     Willy Wonka & the Chocolate Factory (1971)  Witness (1985)  \\\n",
      "userId                                                                 \n",
      "1.0                                              NaN             NaN   \n",
      "2.0                                              NaN             NaN   \n",
      "3.0                                              5.0             4.0   \n",
      "4.0                                              NaN             NaN   \n",
      "5.0                                              2.0             NaN   \n",
      "...                                              ...             ...   \n",
      "138489.0                                         NaN             NaN   \n",
      "138490.0                                         NaN             NaN   \n",
      "138491.0                                         NaN             NaN   \n",
      "138492.0                                         3.5             NaN   \n",
      "138493.0                                         5.0             NaN   \n",
      "\n",
      "title     Wizard of Oz, The (1939)  X-Files: Fight the Future, The (1998)  \\\n",
      "userId                                                                      \n",
      "1.0                            3.5                                    NaN   \n",
      "2.0                            NaN                                    NaN   \n",
      "3.0                            4.0                                    5.0   \n",
      "4.0                            NaN                                    NaN   \n",
      "5.0                            NaN                                    NaN   \n",
      "...                            ...                                    ...   \n",
      "138489.0                       NaN                                    NaN   \n",
      "138490.0                       NaN                                    NaN   \n",
      "138491.0                       NaN                                    NaN   \n",
      "138492.0                       NaN                                    NaN   \n",
      "138493.0                       NaN                                    NaN   \n",
      "\n",
      "title     X-Men (2000)  X2: X-Men United (2003)  You've Got Mail (1998)  \\\n",
      "userId                                                                    \n",
      "1.0                NaN                      4.0                     NaN   \n",
      "2.0                NaN                      NaN                     NaN   \n",
      "3.0                NaN                      NaN                     NaN   \n",
      "4.0                NaN                      NaN                     NaN   \n",
      "5.0                NaN                      NaN                     NaN   \n",
      "...                ...                      ...                     ...   \n",
      "138489.0           NaN                      NaN                     NaN   \n",
      "138490.0           NaN                      NaN                     NaN   \n",
      "138491.0           NaN                      NaN                     NaN   \n",
      "138492.0           NaN                      NaN                     NaN   \n",
      "138493.0           4.5                      4.5                     5.0   \n",
      "\n",
      "title     Young Frankenstein (1974)  \n",
      "userId                               \n",
      "1.0                             4.0  \n",
      "2.0                             NaN  \n",
      "3.0                             5.0  \n",
      "4.0                             NaN  \n",
      "5.0                             NaN  \n",
      "...                             ...  \n",
      "138489.0                        NaN  \n",
      "138490.0                        NaN  \n",
      "138491.0                        NaN  \n",
      "138492.0                        NaN  \n",
      "138493.0                        NaN  \n",
      "\n",
      "[137658 rows x 462 columns]\n"
     ]
    }
   ],
   "source": [
    "rare_movies = comment_counts[comment_counts[\"count\"] <= 10000].index\n",
    "common_movies = df[~df[\"title\"].isin(rare_movies)]\n",
    "user_movie_df = common_movies.pivot_table(index=[\"userId\"], columns=[\"title\"], values=\"rating\")\n",
    "print(user_movie_df)"
   ]
  },
  {
   "cell_type": "markdown",
   "id": "43f16a49",
   "metadata": {},
   "source": [
    "* Oylanma sayısı 10000'den fazla olan filmleri aldık ve bir pivot table oluşturduk.\n",
    "    - Value kısmında : Rating\n",
    "    - Satırlarda : Index\n",
    "    - Sütunlarda : Film isimleri"
   ]
  },
  {
   "cell_type": "markdown",
   "id": "82e545a9",
   "metadata": {},
   "source": [
    "## Adım 2 : Öneri yapılacak kullanıcının izlediği filmlerin belirlenmesi"
   ]
  },
  {
   "cell_type": "markdown",
   "id": "f51f1549",
   "metadata": {},
   "source": [
    "### Bir rastgele kullanıcı belirleyip, tavsiye sistemimizi oluşturmaya başlayabiliriz."
   ]
  },
  {
   "cell_type": "code",
   "execution_count": 23,
   "id": "7dd0d674",
   "metadata": {},
   "outputs": [
    {
     "data": {
      "text/plain": [
       "50"
      ]
     },
     "execution_count": 23,
     "metadata": {},
     "output_type": "execute_result"
    }
   ],
   "source": [
    "random_user = int(pd.Series(user_movie_df.index).sample(1, random_state=35).values) # Rastgele kullanıcı (8362) \n",
    "movies_watched = random_user_df.columns[random_user_df.notna().any()].tolist() # İzlenmeyen filmleri çıkartıyoruz\n",
    "\n",
    "len(movies_watched)"
   ]
  },
  {
   "cell_type": "markdown",
   "id": "0f146b35",
   "metadata": {},
   "source": [
    "* Başlangıçta 462 tane filmimiz var iken, 50 filme düşürdük. Yani, kullanıcımız 50 tane film izlemiş diyebiliriz."
   ]
  },
  {
   "cell_type": "markdown",
   "id": "98b94a02",
   "metadata": {},
   "source": [
    "## Adım 3: Aynı Filmleri İzleyen Diğer Kullanıcıların Verisine ve Id'lerine Erişmek"
   ]
  },
  {
   "cell_type": "code",
   "execution_count": 28,
   "id": "29a1b51b",
   "metadata": {},
   "outputs": [
    {
     "name": "stdout",
     "output_type": "stream",
     "text": [
      "28            29.0\n",
      "90            91.0\n",
      "115          116.0\n",
      "155          156.0\n",
      "293          294.0\n",
      "            ...   \n",
      "137335    138168.0\n",
      "137374    138208.0\n",
      "137444    138279.0\n",
      "137647    138483.0\n",
      "137648    138484.0\n",
      "Name: userId, Length: 2565, dtype: float64\n"
     ]
    }
   ],
   "source": [
    "movies_watched_df = user_movie_df[movies_watched]\n",
    "user_movie_count = movies_watched_df.T.notnull().sum() \n",
    "user_movie_count = user_movie_count.reset_index() \n",
    "user_movie_count.columns = [\"userId\", \"movie_count\"]\n",
    "user_movie_count[user_movie_count[\"movie_count\"] > 40].sort_values(\"movie_count\", ascending=False) \n",
    "user_movie_count[user_movie_count[\"movie_count\"] == 50].count() \n",
    "users_same_movies = user_movie_count[user_movie_count[\"movie_count\"] > 40][\"userId\"]\n",
    "print(users_same_movies)"
   ]
  },
  {
   "cell_type": "markdown",
   "id": "3dbd94ef",
   "metadata": {},
   "source": [
    "* İlk başta, tüm kullanıcılar için, yalnızca random kullanıcının izlediği filmleri içeren bir DataFrame oluşturuldu.\n",
    "* DataFrame transpoze edilerek (satır-sütun değişimi) her kullanıcının random kullanıcının izlediği filmlerden kaç tanesini oyladığı hesaplandı.\n",
    "* Seçilen kullanıcı ile ortak 40 film izleyen kullanıcılar filtrelendi ve veri seti güncellendi."
   ]
  },
  {
   "cell_type": "markdown",
   "id": "dfd74d36",
   "metadata": {},
   "source": [
    "## Adım 4: Öneri Yapılacak Kullanıcı ile En Benzer Davranışlı Kullanıcıların Belirlenmesi"
   ]
  },
  {
   "cell_type": "code",
   "execution_count": 30,
   "id": "ca95e31d",
   "metadata": {},
   "outputs": [
    {
     "name": "stdout",
     "output_type": "stream",
     "text": [
      "title     Ace Ventura: Pet Detective (1994)  \\\n",
      "userId                                        \n",
      "29.0                                    3.0   \n",
      "91.0                                    2.5   \n",
      "116.0                                   3.5   \n",
      "156.0                                   3.0   \n",
      "294.0                                   2.5   \n",
      "...                                     ...   \n",
      "138208.0                                2.0   \n",
      "138279.0                                3.0   \n",
      "138483.0                                1.0   \n",
      "138484.0                                3.0   \n",
      "8362.0                                  1.0   \n",
      "\n",
      "title     Ace Ventura: When Nature Calls (1995)  Addams Family Values (1993)  \\\n",
      "userId                                                                         \n",
      "29.0                                        3.0                          3.0   \n",
      "91.0                                        2.0                          2.5   \n",
      "116.0                                       2.5                          2.0   \n",
      "156.0                                       NaN                          3.0   \n",
      "294.0                                       1.0                          3.5   \n",
      "...                                         ...                          ...   \n",
      "138208.0                                    1.0                          2.0   \n",
      "138279.0                                    NaN                          4.0   \n",
      "138483.0                                    1.0                          2.0   \n",
      "138484.0                                    2.0                          NaN   \n",
      "8362.0                                      1.0                          3.0   \n",
      "\n",
      "title     Aladdin (1992)  Apollo 13 (1995)  Batman (1989)  \\\n",
      "userId                                                      \n",
      "29.0                 4.0               4.0            4.0   \n",
      "91.0                 NaN               3.5            4.0   \n",
      "116.0                3.0               3.0            4.5   \n",
      "156.0                NaN               5.0            4.0   \n",
      "294.0                4.0               5.0            3.5   \n",
      "...                  ...               ...            ...   \n",
      "138208.0             4.0               3.0            3.0   \n",
      "138279.0             NaN               5.0            3.0   \n",
      "138483.0             3.0               3.0            4.0   \n",
      "138484.0             2.0               4.0            3.0   \n",
      "8362.0               3.0               5.0            3.0   \n",
      "\n",
      "title     Birdcage, The (1996)  \\\n",
      "userId                           \n",
      "29.0                       NaN   \n",
      "91.0                       3.5   \n",
      "116.0                      2.5   \n",
      "156.0                      4.0   \n",
      "294.0                      3.0   \n",
      "...                        ...   \n",
      "138208.0                   4.0   \n",
      "138279.0                   NaN   \n",
      "138483.0                   3.0   \n",
      "138484.0                   NaN   \n",
      "8362.0                     3.0   \n",
      "\n",
      "title     City Slickers II: The Legend of Curly's Gold (1994)  \\\n",
      "userId                                                          \n",
      "29.0                                                    4.0     \n",
      "91.0                                                    3.0     \n",
      "116.0                                                   2.0     \n",
      "156.0                                                   3.0     \n",
      "294.0                                                   1.5     \n",
      "...                                                     ...     \n",
      "138208.0                                                2.0     \n",
      "138279.0                                                4.0     \n",
      "138483.0                                                2.0     \n",
      "138484.0                                                NaN     \n",
      "8362.0                                                  3.0     \n",
      "\n",
      "title     Clear and Present Danger (1994)  Clerks (1994)  ...  \\\n",
      "userId                                                    ...   \n",
      "29.0                                  3.0            NaN  ...   \n",
      "91.0                                  3.0            1.5  ...   \n",
      "116.0                                 1.5            3.5  ...   \n",
      "156.0                                 5.0            NaN  ...   \n",
      "294.0                                 2.5            NaN  ...   \n",
      "...                                   ...            ...  ...   \n",
      "138208.0                              2.0            4.0  ...   \n",
      "138279.0                              4.0            3.0  ...   \n",
      "138483.0                              3.0            4.0  ...   \n",
      "138484.0                              4.0            1.0  ...   \n",
      "8362.0                                2.0            4.0  ...   \n",
      "\n",
      "title     Sleepless in Seattle (1993)  Specialist, The (1994)  \\\n",
      "userId                                                          \n",
      "29.0                              NaN                     4.0   \n",
      "91.0                              3.5                     NaN   \n",
      "116.0                             NaN                     2.5   \n",
      "156.0                             4.0                     4.0   \n",
      "294.0                             3.5                     3.0   \n",
      "...                               ...                     ...   \n",
      "138208.0                          3.0                     1.0   \n",
      "138279.0                          3.0                     2.0   \n",
      "138483.0                          3.0                     2.0   \n",
      "138484.0                          3.0                     3.0   \n",
      "8362.0                            3.0                     5.0   \n",
      "\n",
      "title     Star Trek: Generations (1994)  Stargate (1994)  Taxi Driver (1976)  \\\n",
      "userId                                                                         \n",
      "29.0                                3.0              3.0                 NaN   \n",
      "91.0                                3.5              4.0                 NaN   \n",
      "116.0                               2.0              3.5                 4.0   \n",
      "156.0                               3.0              4.0                 4.0   \n",
      "294.0                               4.0              NaN                 4.5   \n",
      "...                                 ...              ...                 ...   \n",
      "138208.0                            3.0              3.0                 3.0   \n",
      "138279.0                            3.0              3.0                 NaN   \n",
      "138483.0                            2.0              2.0                 5.0   \n",
      "138484.0                            3.0              3.0                 NaN   \n",
      "8362.0                              3.0              3.0                 5.0   \n",
      "\n",
      "title     Terminator 2: Judgment Day (1991)  Tombstone (1993)  \\\n",
      "userId                                                          \n",
      "29.0                                    4.0               4.0   \n",
      "91.0                                    2.5               4.5   \n",
      "116.0                                   4.0               4.0   \n",
      "156.0                                   5.0               4.0   \n",
      "294.0                                   NaN               5.0   \n",
      "...                                     ...               ...   \n",
      "138208.0                                3.0               4.0   \n",
      "138279.0                                5.0               3.0   \n",
      "138483.0                                4.0               NaN   \n",
      "138484.0                                5.0               5.0   \n",
      "8362.0                                  3.0               3.0   \n",
      "\n",
      "title     Twelve Monkeys (a.k.a. 12 Monkeys) (1995)  \\\n",
      "userId                                                \n",
      "29.0                                            3.0   \n",
      "91.0                                            4.0   \n",
      "116.0                                           4.0   \n",
      "156.0                                           5.0   \n",
      "294.0                                           4.0   \n",
      "...                                             ...   \n",
      "138208.0                                        2.0   \n",
      "138279.0                                        3.0   \n",
      "138483.0                                        3.0   \n",
      "138484.0                                        NaN   \n",
      "8362.0                                          4.0   \n",
      "\n",
      "title     Usual Suspects, The (1995)  Waterworld (1995)  \n",
      "userId                                                   \n",
      "29.0                             4.0                3.0  \n",
      "91.0                             3.5                1.5  \n",
      "116.0                            4.5                2.0  \n",
      "156.0                            5.0                3.0  \n",
      "294.0                            NaN                1.5  \n",
      "...                              ...                ...  \n",
      "138208.0                         4.0                2.0  \n",
      "138279.0                         4.0                3.0  \n",
      "138483.0                         4.0                2.0  \n",
      "138484.0                         4.0                4.0  \n",
      "8362.0                           3.0                3.0  \n",
      "\n",
      "[2566 rows x 50 columns]\n"
     ]
    }
   ],
   "source": [
    "final_df = pd.concat([movies_watched_df[movies_watched_df.index.isin(users_same_movies)],\n",
    "                      random_user_df[movies_watched]])\n",
    "print(final_df)\n",
    "\n",
    "# Seçilen benzer kullanıcıların oylama verileri ile random kullanıcının verileri, aynı filmler (movies_watched) üzerinden birleştirilir."
   ]
  },
  {
   "cell_type": "code",
   "execution_count": 32,
   "id": "faf58a97",
   "metadata": {},
   "outputs": [
    {
     "name": "stdout",
     "output_type": "stream",
     "text": [
      "Index([8362.0], dtype='float64', name='userId')\n"
     ]
    }
   ],
   "source": [
    "print(final_df.index[final_df.index.duplicated()]) # duplicate mevcut.\n",
    "final_df = final_df[~final_df.index.duplicated(keep='first')]"
   ]
  },
  {
   "cell_type": "code",
   "execution_count": 33,
   "id": "f552610f",
   "metadata": {},
   "outputs": [
    {
     "name": "stdout",
     "output_type": "stream",
     "text": [
      "         user_id_1  user_id_2      corr\n",
      "0          40505.0    67756.0 -0.751181\n",
      "1          18893.0    59226.0 -0.703250\n",
      "2          67756.0    27406.0 -0.695150\n",
      "3          26386.0    27239.0 -0.684906\n",
      "4          61858.0   124395.0 -0.680414\n",
      "...            ...        ...       ...\n",
      "3259441    46836.0    54548.0  0.946763\n",
      "3259442    68063.0    32344.0  0.969623\n",
      "3259443   137686.0    39619.0  0.971376\n",
      "3259444       29.0       29.0  1.000000\n",
      "3259445     1376.0     3743.0       NaN\n",
      "\n",
      "[3259446 rows x 3 columns]\n"
     ]
    }
   ],
   "source": [
    "corr_df = final_df.T.corr().unstack().sort_values().drop_duplicates()    \n",
    "corr_df = pd.DataFrame(corr_df, columns=[\"corr\"])\n",
    "corr_df.index.names = ['user_id_1', 'user_id_2']\n",
    "corr_df = corr_df.reset_index()\n",
    "print(corr_df)"
   ]
  },
  {
   "cell_type": "markdown",
   "id": "ef19ff88",
   "metadata": {},
   "source": [
    "* Kullanıcılar arasında bir korelasyon hesaplandı ve bu değerler ile bir df oluşturuldu.\n",
    "\n",
    "### Bu korelasyon hesaplamamızdaki amaç, seçilen kullanıcı ile en çok korelasyona sahip kullanıcıları belirlemektir."
   ]
  },
  {
   "cell_type": "code",
   "execution_count": 34,
   "id": "96e37b3b",
   "metadata": {},
   "outputs": [
    {
     "name": "stdout",
     "output_type": "stream",
     "text": [
      "        userId      corr  movieId  rating\n",
      "0      58648.0  0.743338        1     5.0\n",
      "1      58648.0  0.743338        2     3.0\n",
      "2      58648.0  0.743338        6     4.5\n",
      "3      58648.0  0.743338        7     3.5\n",
      "4      58648.0  0.743338       10     3.0\n",
      "...        ...       ...      ...     ...\n",
      "32492  66763.0  0.650556    91529     4.0\n",
      "32493  66763.0  0.650556    91658     3.5\n",
      "32494  66763.0  0.650556    92259     4.0\n",
      "32495  66763.0  0.650556    96728     3.5\n",
      "32496  66763.0  0.650556    98154     4.5\n",
      "\n",
      "[32497 rows x 4 columns]\n"
     ]
    }
   ],
   "source": [
    "top_users = corr_df[(corr_df[\"user_id_1\"] == random_user) & (corr_df[\"corr\"] >= 0.65)][\n",
    "    [\"user_id_2\", \"corr\"]].reset_index(drop=True) # Korelasyon değeri 0.65 üzeri kullanıcıları seçeceğiz.\n",
    "\n",
    "top_users = top_users.sort_values(by='corr', ascending=False)\n",
    "top_users.rename(columns={\"user_id_2\": \"userId\"}, inplace=True)\n",
    "\n",
    "# Hangi kullanıcının kaç puan verdiği hakkında bir bilgimiz yok. Bu yüzden rating veri setimizi tekrardan kullanıyoruz.\n",
    "top_users_ratings = top_users.merge(rating[[\"userId\", \"movieId\", \"rating\"]], how='inner')\n",
    "print(top_users_ratings)"
   ]
  },
  {
   "cell_type": "markdown",
   "id": "ab4ff675",
   "metadata": {},
   "source": [
    "## Adım 5: Weighted Average Recommendation Score'un Hesaplanması "
   ]
  },
  {
   "cell_type": "markdown",
   "id": "8ecfcdb3",
   "metadata": {},
   "source": [
    "* top_users_ratings çıktısında görüldüğü üzere, korelasyon değerlerini ve ratingleri görebiliyoruz. Şimdi, buradaki tavsiye sıralaması nasıl yapılacak ?\n",
    "    - Sadece rating ile sıralayacak olursak, korelasyon değerlerini hiçe saymış olacağız. \n",
    "    - Sadece korelasyon ile sıralama yapacaksak, rating puanlarını hesaba katmamış olacağız.\n",
    "\n",
    "* Rating hemde Korelasyonu beraber kullanıp sıralama yapmamız daha sağlıklı olacaktır.\n",
    "\n",
    "* Bunun için, \"weighted_rating\" adında bir sütun oluşturacağız. Seçilen kullanıcıya ise, userId groupby'ını alarak weighted_rating'in ortalamasını alıp o şekilde sıralama sunacağız"
   ]
  },
  {
   "cell_type": "code",
   "execution_count": 37,
   "id": "6b124cac",
   "metadata": {},
   "outputs": [
    {
     "name": "stdout",
     "output_type": "stream",
     "text": [
      "   movieId  weighted_rating                                         title\n",
      "0     4612         3.571748  Jesus of Montreal (Jésus de Montréal) (1989)\n",
      "1     7478         3.571748                   Swimming to Cambodia (1987)\n",
      "2     3038         3.544738                   Face in the Crowd, A (1957)\n",
      "3    78986         3.544738                 Salvador (Puig Antich) (2006)\n",
      "4   106487         3.544738       Hunger Games: Catching Fire, The (2013)\n"
     ]
    }
   ],
   "source": [
    "top_users_ratings['weighted_rating'] = top_users_ratings['corr'] * top_users_ratings['rating']\n",
    "top_users_ratings.groupby('movieId').agg({\"weighted_rating\": \"mean\"})\n",
    "\n",
    "recommendation_df = top_users_ratings.groupby('movieId').agg({\"weighted_rating\": \"mean\"})\n",
    "\n",
    "recommendation_df = recommendation_df.reset_index() # 7546 tane kullanıcı var. Bunları weighted_rating'e göre eleyeceğiz.\n",
    "\n",
    "movies_to_be_recommend = recommendation_df[recommendation_df[\"weighted_rating\"] > 3.5].sort_values(\"weighted_rating\", ascending=False)\n",
    "print(movies_to_be_recommend.merge(movie[[\"movieId\", \"title\"]]))"
   ]
  },
  {
   "cell_type": "code",
   "execution_count": null,
   "id": "f0a5701a",
   "metadata": {},
   "outputs": [],
   "source": []
  }
 ],
 "metadata": {
  "kernelspec": {
   "display_name": "Python 3 (ipykernel)",
   "language": "python",
   "name": "python3"
  },
  "language_info": {
   "codemirror_mode": {
    "name": "ipython",
    "version": 3
   },
   "file_extension": ".py",
   "mimetype": "text/x-python",
   "name": "python",
   "nbconvert_exporter": "python",
   "pygments_lexer": "ipython3",
   "version": "3.11.5"
  }
 },
 "nbformat": 4,
 "nbformat_minor": 5
}
